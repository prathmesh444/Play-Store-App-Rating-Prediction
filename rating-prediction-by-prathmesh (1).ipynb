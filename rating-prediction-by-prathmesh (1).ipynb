{
 "cells": [
  {
   "cell_type": "code",
   "execution_count": 1,
   "id": "41522e2e",
   "metadata": {
    "execution": {
     "iopub.execute_input": "2023-05-21T12:02:23.657598Z",
     "iopub.status.busy": "2023-05-21T12:02:23.656908Z",
     "iopub.status.idle": "2023-05-21T12:02:26.100997Z",
     "shell.execute_reply": "2023-05-21T12:02:26.099657Z"
    },
    "papermill": {
     "duration": 2.459196,
     "end_time": "2023-05-21T12:02:26.103581",
     "exception": false,
     "start_time": "2023-05-21T12:02:23.644385",
     "status": "completed"
    },
    "tags": []
   },
   "outputs": [
    {
     "name": "stderr",
     "output_type": "stream",
     "text": [
      "/opt/conda/lib/python3.10/site-packages/scipy/__init__.py:146: UserWarning: A NumPy version >=1.16.5 and <1.23.0 is required for this version of SciPy (detected version 1.23.5\n",
      "  warnings.warn(f\"A NumPy version >={np_minversion} and <{np_maxversion}\"\n"
     ]
    }
   ],
   "source": [
    "\n",
    "#importing various libraries and modules that are commonly used in machine learning and data analysis tasks.\n",
    "\n",
    "import numpy as np\n",
    "import pandas as pd\n",
    "from sklearn.ensemble import RandomForestClassifier\n",
    "from sklearn.ensemble import RandomForestRegressor\n",
    "from sklearn.linear_model import LogisticRegression\n",
    "from xgboost import XGBClassifier\n",
    "from sklearn.svm import SVC\n",
    "from sklearn.naive_bayes import GaussianNB\n",
    "from sklearn.preprocessing import  MinMaxScaler\n",
    "from sklearn.preprocessing import StandardScaler\n",
    "from sklearn.model_selection import train_test_split\n",
    "from sklearn.model_selection import cross_val_score\n",
    "from sklearn.metrics import confusion_matrix\n",
    "import matplotlib.pyplot as plt\n",
    "import seaborn as sns\n",
    "%matplotlib inline"
   ]
  },
  {
   "cell_type": "code",
   "execution_count": 2,
   "id": "4d1e2d12",
   "metadata": {
    "execution": {
     "iopub.execute_input": "2023-05-21T12:02:26.124665Z",
     "iopub.status.busy": "2023-05-21T12:02:26.124339Z",
     "iopub.status.idle": "2023-05-21T12:02:26.137405Z",
     "shell.execute_reply": "2023-05-21T12:02:26.135487Z"
    },
    "papermill": {
     "duration": 0.026404,
     "end_time": "2023-05-21T12:02:26.140042",
     "exception": false,
     "start_time": "2023-05-21T12:02:26.113638",
     "status": "completed"
    },
    "tags": []
   },
   "outputs": [
    {
     "name": "stdout",
     "output_type": "stream",
     "text": [
      "/kaggle/input/google-play-store-apps/googleplaystore.csv\n",
      "/kaggle/input/google-play-store-apps/license.txt\n",
      "/kaggle/input/google-play-store-apps/googleplaystore_user_reviews.csv\n"
     ]
    }
   ],
   "source": [
    "#using the `os` module to traverse through a directory and its subdirectories.\n",
    "# It starts at the directory '/kaggle/input' and iterates through each directory and file within it.\n",
    "# For each file, it prints the full path by joining the directory name and the file name using `os.path.join()`.\n",
    "import os\n",
    "for dirname, _, filenames in os.walk('/kaggle/input'):\n",
    "    for filename in filenames:\n",
    "        print(os.path.join(dirname, filename))"
   ]
  },
  {
   "cell_type": "code",
   "execution_count": 3,
   "id": "28d58c49",
   "metadata": {
    "execution": {
     "iopub.execute_input": "2023-05-21T12:02:26.160081Z",
     "iopub.status.busy": "2023-05-21T12:02:26.159672Z",
     "iopub.status.idle": "2023-05-21T12:02:26.273042Z",
     "shell.execute_reply": "2023-05-21T12:02:26.270762Z"
    },
    "papermill": {
     "duration": 0.126763,
     "end_time": "2023-05-21T12:02:26.275839",
     "exception": false,
     "start_time": "2023-05-21T12:02:26.149076",
     "status": "completed"
    },
    "tags": []
   },
   "outputs": [
    {
     "data": {
      "text/html": [
       "<div>\n",
       "<style scoped>\n",
       "    .dataframe tbody tr th:only-of-type {\n",
       "        vertical-align: middle;\n",
       "    }\n",
       "\n",
       "    .dataframe tbody tr th {\n",
       "        vertical-align: top;\n",
       "    }\n",
       "\n",
       "    .dataframe thead th {\n",
       "        text-align: right;\n",
       "    }\n",
       "</style>\n",
       "<table border=\"1\" class=\"dataframe\">\n",
       "  <thead>\n",
       "    <tr style=\"text-align: right;\">\n",
       "      <th></th>\n",
       "      <th>App</th>\n",
       "      <th>Category</th>\n",
       "      <th>Rating</th>\n",
       "      <th>Reviews</th>\n",
       "      <th>Size</th>\n",
       "      <th>Installs</th>\n",
       "      <th>Type</th>\n",
       "      <th>Price</th>\n",
       "      <th>Content Rating</th>\n",
       "      <th>Genres</th>\n",
       "      <th>Last Updated</th>\n",
       "      <th>Current Ver</th>\n",
       "      <th>Android Ver</th>\n",
       "    </tr>\n",
       "  </thead>\n",
       "  <tbody>\n",
       "    <tr>\n",
       "      <th>0</th>\n",
       "      <td>Photo Editor &amp; Candy Camera &amp; Grid &amp; ScrapBook</td>\n",
       "      <td>ART_AND_DESIGN</td>\n",
       "      <td>4.1</td>\n",
       "      <td>159</td>\n",
       "      <td>19M</td>\n",
       "      <td>10,000+</td>\n",
       "      <td>Free</td>\n",
       "      <td>0</td>\n",
       "      <td>Everyone</td>\n",
       "      <td>Art &amp; Design</td>\n",
       "      <td>January 7, 2018</td>\n",
       "      <td>1.0.0</td>\n",
       "      <td>4.0.3 and up</td>\n",
       "    </tr>\n",
       "    <tr>\n",
       "      <th>1</th>\n",
       "      <td>Coloring book moana</td>\n",
       "      <td>ART_AND_DESIGN</td>\n",
       "      <td>3.9</td>\n",
       "      <td>967</td>\n",
       "      <td>14M</td>\n",
       "      <td>500,000+</td>\n",
       "      <td>Free</td>\n",
       "      <td>0</td>\n",
       "      <td>Everyone</td>\n",
       "      <td>Art &amp; Design;Pretend Play</td>\n",
       "      <td>January 15, 2018</td>\n",
       "      <td>2.0.0</td>\n",
       "      <td>4.0.3 and up</td>\n",
       "    </tr>\n",
       "    <tr>\n",
       "      <th>2</th>\n",
       "      <td>U Launcher Lite – FREE Live Cool Themes, Hide ...</td>\n",
       "      <td>ART_AND_DESIGN</td>\n",
       "      <td>4.7</td>\n",
       "      <td>87510</td>\n",
       "      <td>8.7M</td>\n",
       "      <td>5,000,000+</td>\n",
       "      <td>Free</td>\n",
       "      <td>0</td>\n",
       "      <td>Everyone</td>\n",
       "      <td>Art &amp; Design</td>\n",
       "      <td>August 1, 2018</td>\n",
       "      <td>1.2.4</td>\n",
       "      <td>4.0.3 and up</td>\n",
       "    </tr>\n",
       "    <tr>\n",
       "      <th>3</th>\n",
       "      <td>Sketch - Draw &amp; Paint</td>\n",
       "      <td>ART_AND_DESIGN</td>\n",
       "      <td>4.5</td>\n",
       "      <td>215644</td>\n",
       "      <td>25M</td>\n",
       "      <td>50,000,000+</td>\n",
       "      <td>Free</td>\n",
       "      <td>0</td>\n",
       "      <td>Teen</td>\n",
       "      <td>Art &amp; Design</td>\n",
       "      <td>June 8, 2018</td>\n",
       "      <td>Varies with device</td>\n",
       "      <td>4.2 and up</td>\n",
       "    </tr>\n",
       "    <tr>\n",
       "      <th>4</th>\n",
       "      <td>Pixel Draw - Number Art Coloring Book</td>\n",
       "      <td>ART_AND_DESIGN</td>\n",
       "      <td>4.3</td>\n",
       "      <td>967</td>\n",
       "      <td>2.8M</td>\n",
       "      <td>100,000+</td>\n",
       "      <td>Free</td>\n",
       "      <td>0</td>\n",
       "      <td>Everyone</td>\n",
       "      <td>Art &amp; Design;Creativity</td>\n",
       "      <td>June 20, 2018</td>\n",
       "      <td>1.1</td>\n",
       "      <td>4.4 and up</td>\n",
       "    </tr>\n",
       "  </tbody>\n",
       "</table>\n",
       "</div>"
      ],
      "text/plain": [
       "                                                 App        Category  Rating  \\\n",
       "0     Photo Editor & Candy Camera & Grid & ScrapBook  ART_AND_DESIGN     4.1   \n",
       "1                                Coloring book moana  ART_AND_DESIGN     3.9   \n",
       "2  U Launcher Lite – FREE Live Cool Themes, Hide ...  ART_AND_DESIGN     4.7   \n",
       "3                              Sketch - Draw & Paint  ART_AND_DESIGN     4.5   \n",
       "4              Pixel Draw - Number Art Coloring Book  ART_AND_DESIGN     4.3   \n",
       "\n",
       "  Reviews  Size     Installs  Type Price Content Rating  \\\n",
       "0     159   19M      10,000+  Free     0       Everyone   \n",
       "1     967   14M     500,000+  Free     0       Everyone   \n",
       "2   87510  8.7M   5,000,000+  Free     0       Everyone   \n",
       "3  215644   25M  50,000,000+  Free     0           Teen   \n",
       "4     967  2.8M     100,000+  Free     0       Everyone   \n",
       "\n",
       "                      Genres      Last Updated         Current Ver  \\\n",
       "0               Art & Design   January 7, 2018               1.0.0   \n",
       "1  Art & Design;Pretend Play  January 15, 2018               2.0.0   \n",
       "2               Art & Design    August 1, 2018               1.2.4   \n",
       "3               Art & Design      June 8, 2018  Varies with device   \n",
       "4    Art & Design;Creativity     June 20, 2018                 1.1   \n",
       "\n",
       "    Android Ver  \n",
       "0  4.0.3 and up  \n",
       "1  4.0.3 and up  \n",
       "2  4.0.3 and up  \n",
       "3    4.2 and up  \n",
       "4    4.4 and up  "
      ]
     },
     "execution_count": 3,
     "metadata": {},
     "output_type": "execute_result"
    }
   ],
   "source": [
    "X = pd.read_csv(\"/kaggle/input/google-play-store-apps/googleplaystore.csv\")\n",
    "X.head(5)"
   ]
  },
  {
   "cell_type": "code",
   "execution_count": 4,
   "id": "92241f9c",
   "metadata": {
    "execution": {
     "iopub.execute_input": "2023-05-21T12:02:26.298089Z",
     "iopub.status.busy": "2023-05-21T12:02:26.297203Z",
     "iopub.status.idle": "2023-05-21T12:02:26.304466Z",
     "shell.execute_reply": "2023-05-21T12:02:26.303394Z"
    },
    "papermill": {
     "duration": 0.020495,
     "end_time": "2023-05-21T12:02:26.306335",
     "exception": false,
     "start_time": "2023-05-21T12:02:26.285840",
     "status": "completed"
    },
    "tags": []
   },
   "outputs": [
    {
     "data": {
      "text/plain": [
       "(10841, 13)"
      ]
     },
     "execution_count": 4,
     "metadata": {},
     "output_type": "execute_result"
    }
   ],
   "source": [
    "X.shape"
   ]
  },
  {
   "cell_type": "code",
   "execution_count": 5,
   "id": "6a422163",
   "metadata": {
    "execution": {
     "iopub.execute_input": "2023-05-21T12:02:26.327529Z",
     "iopub.status.busy": "2023-05-21T12:02:26.327108Z",
     "iopub.status.idle": "2023-05-21T12:02:26.356858Z",
     "shell.execute_reply": "2023-05-21T12:02:26.355710Z"
    },
    "papermill": {
     "duration": 0.043353,
     "end_time": "2023-05-21T12:02:26.359355",
     "exception": false,
     "start_time": "2023-05-21T12:02:26.316002",
     "status": "completed"
    },
    "tags": []
   },
   "outputs": [
    {
     "data": {
      "text/plain": [
       "App               9660\n",
       "Category            34\n",
       "Rating              40\n",
       "Reviews           6002\n",
       "Size               462\n",
       "Installs            22\n",
       "Type                 3\n",
       "Price               93\n",
       "Content Rating       6\n",
       "Genres             120\n",
       "Last Updated      1378\n",
       "Current Ver       2832\n",
       "Android Ver         33\n",
       "dtype: int64"
      ]
     },
     "execution_count": 5,
     "metadata": {},
     "output_type": "execute_result"
    }
   ],
   "source": [
    "X.nunique(axis = 0)"
   ]
  },
  {
   "cell_type": "code",
   "execution_count": 6,
   "id": "3e220226",
   "metadata": {
    "execution": {
     "iopub.execute_input": "2023-05-21T12:02:26.381673Z",
     "iopub.status.busy": "2023-05-21T12:02:26.381254Z",
     "iopub.status.idle": "2023-05-21T12:02:26.401168Z",
     "shell.execute_reply": "2023-05-21T12:02:26.400048Z"
    },
    "papermill": {
     "duration": 0.0342,
     "end_time": "2023-05-21T12:02:26.403653",
     "exception": false,
     "start_time": "2023-05-21T12:02:26.369453",
     "status": "completed"
    },
    "tags": []
   },
   "outputs": [
    {
     "data": {
      "text/html": [
       "<div>\n",
       "<style scoped>\n",
       "    .dataframe tbody tr th:only-of-type {\n",
       "        vertical-align: middle;\n",
       "    }\n",
       "\n",
       "    .dataframe tbody tr th {\n",
       "        vertical-align: top;\n",
       "    }\n",
       "\n",
       "    .dataframe thead th {\n",
       "        text-align: right;\n",
       "    }\n",
       "</style>\n",
       "<table border=\"1\" class=\"dataframe\">\n",
       "  <thead>\n",
       "    <tr style=\"text-align: right;\">\n",
       "      <th></th>\n",
       "      <th>App</th>\n",
       "      <th>Category</th>\n",
       "      <th>Rating</th>\n",
       "      <th>Reviews</th>\n",
       "      <th>Size</th>\n",
       "      <th>Installs</th>\n",
       "      <th>Type</th>\n",
       "      <th>Price</th>\n",
       "      <th>Content Rating</th>\n",
       "      <th>Genres</th>\n",
       "      <th>Last Updated</th>\n",
       "      <th>Current Ver</th>\n",
       "      <th>Android Ver</th>\n",
       "    </tr>\n",
       "  </thead>\n",
       "  <tbody>\n",
       "    <tr>\n",
       "      <th>10472</th>\n",
       "      <td>Life Made WI-Fi Touchscreen Photo Frame</td>\n",
       "      <td>1.9</td>\n",
       "      <td>19.0</td>\n",
       "      <td>3.0M</td>\n",
       "      <td>1,000+</td>\n",
       "      <td>Free</td>\n",
       "      <td>0</td>\n",
       "      <td>Everyone</td>\n",
       "      <td>NaN</td>\n",
       "      <td>February 11, 2018</td>\n",
       "      <td>1.0.19</td>\n",
       "      <td>4.0 and up</td>\n",
       "      <td>NaN</td>\n",
       "    </tr>\n",
       "  </tbody>\n",
       "</table>\n",
       "</div>"
      ],
      "text/plain": [
       "                                           App Category  Rating Reviews  \\\n",
       "10472  Life Made WI-Fi Touchscreen Photo Frame      1.9    19.0    3.0M   \n",
       "\n",
       "         Size Installs Type     Price Content Rating             Genres  \\\n",
       "10472  1,000+     Free    0  Everyone            NaN  February 11, 2018   \n",
       "\n",
       "      Last Updated Current Ver Android Ver  \n",
       "10472       1.0.19  4.0 and up         NaN  "
      ]
     },
     "execution_count": 6,
     "metadata": {},
     "output_type": "execute_result"
    }
   ],
   "source": [
    "X[X['Rating'] == 19]"
   ]
  },
  {
   "cell_type": "code",
   "execution_count": 7,
   "id": "bd38fce0",
   "metadata": {
    "execution": {
     "iopub.execute_input": "2023-05-21T12:02:26.425610Z",
     "iopub.status.busy": "2023-05-21T12:02:26.425192Z",
     "iopub.status.idle": "2023-05-21T12:02:26.442161Z",
     "shell.execute_reply": "2023-05-21T12:02:26.441369Z"
    },
    "papermill": {
     "duration": 0.030363,
     "end_time": "2023-05-21T12:02:26.443955",
     "exception": false,
     "start_time": "2023-05-21T12:02:26.413592",
     "status": "completed"
    },
    "tags": []
   },
   "outputs": [
    {
     "data": {
      "text/html": [
       "<div>\n",
       "<style scoped>\n",
       "    .dataframe tbody tr th:only-of-type {\n",
       "        vertical-align: middle;\n",
       "    }\n",
       "\n",
       "    .dataframe tbody tr th {\n",
       "        vertical-align: top;\n",
       "    }\n",
       "\n",
       "    .dataframe thead th {\n",
       "        text-align: right;\n",
       "    }\n",
       "</style>\n",
       "<table border=\"1\" class=\"dataframe\">\n",
       "  <thead>\n",
       "    <tr style=\"text-align: right;\">\n",
       "      <th></th>\n",
       "      <th>App</th>\n",
       "      <th>Category</th>\n",
       "      <th>Rating</th>\n",
       "      <th>Reviews</th>\n",
       "      <th>Size</th>\n",
       "      <th>Installs</th>\n",
       "      <th>Type</th>\n",
       "      <th>Price</th>\n",
       "      <th>Content Rating</th>\n",
       "      <th>Genres</th>\n",
       "      <th>Last Updated</th>\n",
       "      <th>Current Ver</th>\n",
       "      <th>Android Ver</th>\n",
       "    </tr>\n",
       "  </thead>\n",
       "  <tbody>\n",
       "    <tr>\n",
       "      <th>10471</th>\n",
       "      <td>Xposed Wi-Fi-Pwd</td>\n",
       "      <td>PERSONALIZATION</td>\n",
       "      <td>3.5</td>\n",
       "      <td>1042</td>\n",
       "      <td>404k</td>\n",
       "      <td>100,000+</td>\n",
       "      <td>Free</td>\n",
       "      <td>0</td>\n",
       "      <td>Everyone</td>\n",
       "      <td>Personalization</td>\n",
       "      <td>August 5, 2014</td>\n",
       "      <td>3.0.0</td>\n",
       "      <td>4.0.3 and up</td>\n",
       "    </tr>\n",
       "    <tr>\n",
       "      <th>10472</th>\n",
       "      <td>Life Made WI-Fi Touchscreen Photo Frame</td>\n",
       "      <td>None</td>\n",
       "      <td>1.9</td>\n",
       "      <td>19.0</td>\n",
       "      <td>3.0M</td>\n",
       "      <td>1,000+</td>\n",
       "      <td>Free</td>\n",
       "      <td>0</td>\n",
       "      <td>Everyone</td>\n",
       "      <td>NaN</td>\n",
       "      <td>February 11, 2018</td>\n",
       "      <td>1.0.19</td>\n",
       "      <td>4.0 and up</td>\n",
       "    </tr>\n",
       "  </tbody>\n",
       "</table>\n",
       "</div>"
      ],
      "text/plain": [
       "                                           App         Category Rating  \\\n",
       "10471                         Xposed Wi-Fi-Pwd  PERSONALIZATION    3.5   \n",
       "10472  Life Made WI-Fi Touchscreen Photo Frame             None    1.9   \n",
       "\n",
       "      Reviews  Size  Installs  Type Price Content Rating           Genres  \\\n",
       "10471    1042  404k  100,000+  Free     0       Everyone  Personalization   \n",
       "10472    19.0  3.0M    1,000+  Free     0       Everyone              NaN   \n",
       "\n",
       "            Last Updated Current Ver   Android Ver  \n",
       "10471     August 5, 2014       3.0.0  4.0.3 and up  \n",
       "10472  February 11, 2018      1.0.19    4.0 and up  "
      ]
     },
     "execution_count": 7,
     "metadata": {},
     "output_type": "execute_result"
    }
   ],
   "source": [
    "\n",
    "X.iloc[10472,1:] = X.iloc[10472,1:].shift(1)\n",
    "X[10471:10473]"
   ]
  },
  {
   "cell_type": "code",
   "execution_count": 8,
   "id": "aeabd34a",
   "metadata": {
    "execution": {
     "iopub.execute_input": "2023-05-21T12:02:26.467170Z",
     "iopub.status.busy": "2023-05-21T12:02:26.466755Z",
     "iopub.status.idle": "2023-05-21T12:02:26.481532Z",
     "shell.execute_reply": "2023-05-21T12:02:26.480404Z"
    },
    "papermill": {
     "duration": 0.029573,
     "end_time": "2023-05-21T12:02:26.483889",
     "exception": false,
     "start_time": "2023-05-21T12:02:26.454316",
     "status": "completed"
    },
    "tags": []
   },
   "outputs": [
    {
     "data": {
      "text/plain": [
       "FAMILY                 1972\n",
       "GAME                   1144\n",
       "TOOLS                   843\n",
       "MEDICAL                 463\n",
       "BUSINESS                460\n",
       "PRODUCTIVITY            424\n",
       "PERSONALIZATION         392\n",
       "COMMUNICATION           387\n",
       "SPORTS                  384\n",
       "LIFESTYLE               382\n",
       "FINANCE                 366\n",
       "HEALTH_AND_FITNESS      341\n",
       "PHOTOGRAPHY             335\n",
       "SOCIAL                  295\n",
       "NEWS_AND_MAGAZINES      283\n",
       "SHOPPING                260\n",
       "TRAVEL_AND_LOCAL        258\n",
       "DATING                  234\n",
       "BOOKS_AND_REFERENCE     231\n",
       "VIDEO_PLAYERS           175\n",
       "EDUCATION               156\n",
       "ENTERTAINMENT           149\n",
       "MAPS_AND_NAVIGATION     137\n",
       "FOOD_AND_DRINK          127\n",
       "HOUSE_AND_HOME           88\n",
       "AUTO_AND_VEHICLES        85\n",
       "LIBRARIES_AND_DEMO       85\n",
       "WEATHER                  82\n",
       "ART_AND_DESIGN           65\n",
       "EVENTS                   64\n",
       "PARENTING                60\n",
       "COMICS                   60\n",
       "BEAUTY                   53\n",
       "Name: Category, dtype: int64"
      ]
     },
     "execution_count": 8,
     "metadata": {},
     "output_type": "execute_result"
    }
   ],
   "source": [
    "# Counting the number of occurrences of each unique value in the \"Category\" column of the DataFrame X. \n",
    "# The resulting counts are then stored in the variable cat_count. \n",
    "# The sort=True parameter sorts the counts in descending order.\n",
    "cat_count = X.Category.value_counts(sort=True)\n",
    "cat_count"
   ]
  },
  {
   "cell_type": "code",
   "execution_count": 9,
   "id": "e85cb3ac",
   "metadata": {
    "execution": {
     "iopub.execute_input": "2023-05-21T12:02:26.508287Z",
     "iopub.status.busy": "2023-05-21T12:02:26.507894Z",
     "iopub.status.idle": "2023-05-21T12:02:26.539522Z",
     "shell.execute_reply": "2023-05-21T12:02:26.538374Z"
    },
    "papermill": {
     "duration": 0.045736,
     "end_time": "2023-05-21T12:02:26.541977",
     "exception": false,
     "start_time": "2023-05-21T12:02:26.496241",
     "status": "completed"
    },
    "tags": []
   },
   "outputs": [
    {
     "data": {
      "text/plain": [
       "FAMILY                 1972\n",
       "OTHER                  1386\n",
       "GAME                   1144\n",
       "TOOLS                   843\n",
       "MEDICAL                 463\n",
       "BUSINESS                460\n",
       "PRODUCTIVITY            424\n",
       "PERSONALIZATION         392\n",
       "COMMUNICATION           387\n",
       "SPORTS                  384\n",
       "LIFESTYLE               382\n",
       "FINANCE                 366\n",
       "HEALTH_AND_FITNESS      341\n",
       "PHOTOGRAPHY             335\n",
       "SOCIAL                  295\n",
       "NEWS_AND_MAGAZINES      283\n",
       "SHOPPING                260\n",
       "TRAVEL_AND_LOCAL        258\n",
       "DATING                  234\n",
       "BOOKS_AND_REFERENCE     231\n",
       "Name: Category, dtype: int64"
      ]
     },
     "execution_count": 9,
     "metadata": {},
     "output_type": "execute_result"
    }
   ],
   "source": [
    "#The code is creating a new variable `other_val` which contains the values from the `cat_count` variable that are less than 200.\n",
    "other_val = cat_count[cat_count<200]\n",
    "X.Category = X.Category.apply(lambda x: \"OTHER\" if x in other_val else x)\n",
    "X.Category.value_counts(sort=True)"
   ]
  },
  {
   "cell_type": "code",
   "execution_count": 10,
   "id": "0b2cdb64",
   "metadata": {
    "execution": {
     "iopub.execute_input": "2023-05-21T12:02:26.565511Z",
     "iopub.status.busy": "2023-05-21T12:02:26.564815Z",
     "iopub.status.idle": "2023-05-21T12:02:26.592557Z",
     "shell.execute_reply": "2023-05-21T12:02:26.591494Z"
    },
    "papermill": {
     "duration": 0.042563,
     "end_time": "2023-05-21T12:02:26.595642",
     "exception": false,
     "start_time": "2023-05-21T12:02:26.553079",
     "status": "completed"
    },
    "tags": []
   },
   "outputs": [
    {
     "data": {
      "text/plain": [
       "App                  0\n",
       "Category             1\n",
       "Rating            1474\n",
       "Reviews              0\n",
       "Size                 0\n",
       "Installs             0\n",
       "Type                 1\n",
       "Price                0\n",
       "Content Rating       0\n",
       "Genres               1\n",
       "Last Updated         0\n",
       "Current Ver          8\n",
       "Android Ver          2\n",
       "dtype: int64"
      ]
     },
     "execution_count": 10,
     "metadata": {},
     "output_type": "execute_result"
    }
   ],
   "source": [
    "X.isna().sum()"
   ]
  },
  {
   "cell_type": "code",
   "execution_count": 11,
   "id": "1312ad47",
   "metadata": {
    "execution": {
     "iopub.execute_input": "2023-05-21T12:02:26.621192Z",
     "iopub.status.busy": "2023-05-21T12:02:26.620812Z",
     "iopub.status.idle": "2023-05-21T12:02:26.671660Z",
     "shell.execute_reply": "2023-05-21T12:02:26.670543Z"
    },
    "papermill": {
     "duration": 0.066553,
     "end_time": "2023-05-21T12:02:26.674042",
     "exception": false,
     "start_time": "2023-05-21T12:02:26.607489",
     "status": "completed"
    },
    "tags": []
   },
   "outputs": [
    {
     "data": {
      "text/plain": [
       "App               0\n",
       "Category          0\n",
       "Rating            0\n",
       "Reviews           0\n",
       "Size              0\n",
       "Installs          0\n",
       "Type              0\n",
       "Price             0\n",
       "Content Rating    0\n",
       "Genres            0\n",
       "Last Updated      0\n",
       "Current Ver       0\n",
       "Android Ver       0\n",
       "dtype: int64"
      ]
     },
     "execution_count": 11,
     "metadata": {},
     "output_type": "execute_result"
    }
   ],
   "source": [
    "X.dropna(axis=0,inplace=True)\n",
    "X.isna().sum()"
   ]
  },
  {
   "cell_type": "code",
   "execution_count": 12,
   "id": "72ece401",
   "metadata": {
    "execution": {
     "iopub.execute_input": "2023-05-21T12:02:26.699385Z",
     "iopub.status.busy": "2023-05-21T12:02:26.698814Z",
     "iopub.status.idle": "2023-05-21T12:02:26.841421Z",
     "shell.execute_reply": "2023-05-21T12:02:26.840442Z"
    },
    "papermill": {
     "duration": 0.158015,
     "end_time": "2023-05-21T12:02:26.843606",
     "exception": false,
     "start_time": "2023-05-21T12:02:26.685591",
     "status": "completed"
    },
    "tags": []
   },
   "outputs": [],
   "source": [
    "# The code is converting the values in the 'Last Updated' column of the DataFrame X into datetime format using the pd.to_datetime() function.\n",
    "# It then creates two new columns in the DataFrame X called 'year_added' and 'month_added' which contain the year and month values extracted\n",
    "# from the 'Last Updated' column using the dt.year and dt.month functions.\n",
    "X[\"Last Updated\"] = pd.to_datetime(X['Last Updated'])\n",
    "X['year_added']=X['Last Updated'].dt.year\n",
    "X['month_added']=X['Last Updated'].dt.month"
   ]
  },
  {
   "cell_type": "code",
   "execution_count": 13,
   "id": "5acb0cef",
   "metadata": {
    "execution": {
     "iopub.execute_input": "2023-05-21T12:02:26.867089Z",
     "iopub.status.busy": "2023-05-21T12:02:26.866207Z",
     "iopub.status.idle": "2023-05-21T12:02:26.899030Z",
     "shell.execute_reply": "2023-05-21T12:02:26.897376Z"
    },
    "papermill": {
     "duration": 0.047444,
     "end_time": "2023-05-21T12:02:26.901830",
     "exception": false,
     "start_time": "2023-05-21T12:02:26.854386",
     "status": "completed"
    },
    "tags": []
   },
   "outputs": [
    {
     "data": {
      "text/plain": [
       "App               0\n",
       "Category          0\n",
       "Rating            0\n",
       "Reviews           0\n",
       "Size              0\n",
       "Installs          0\n",
       "Type              0\n",
       "Price             0\n",
       "Content Rating    0\n",
       "Genres            0\n",
       "Last Updated      0\n",
       "Current Ver       0\n",
       "Android Ver       0\n",
       "year_added        0\n",
       "month_added       0\n",
       "dtype: int64"
      ]
     },
     "execution_count": 13,
     "metadata": {},
     "output_type": "execute_result"
    }
   ],
   "source": [
    "\n",
    "X.Rating = X.Rating.fillna(method = \"ffill\")\n",
    "X.isna().sum()"
   ]
  },
  {
   "cell_type": "code",
   "execution_count": 14,
   "id": "f23bfecf",
   "metadata": {
    "execution": {
     "iopub.execute_input": "2023-05-21T12:02:26.927112Z",
     "iopub.status.busy": "2023-05-21T12:02:26.926225Z",
     "iopub.status.idle": "2023-05-21T12:02:26.947197Z",
     "shell.execute_reply": "2023-05-21T12:02:26.946248Z"
    },
    "papermill": {
     "duration": 0.035655,
     "end_time": "2023-05-21T12:02:26.949052",
     "exception": false,
     "start_time": "2023-05-21T12:02:26.913397",
     "status": "completed"
    },
    "tags": []
   },
   "outputs": [
    {
     "data": {
      "text/html": [
       "<div>\n",
       "<style scoped>\n",
       "    .dataframe tbody tr th:only-of-type {\n",
       "        vertical-align: middle;\n",
       "    }\n",
       "\n",
       "    .dataframe tbody tr th {\n",
       "        vertical-align: top;\n",
       "    }\n",
       "\n",
       "    .dataframe thead th {\n",
       "        text-align: right;\n",
       "    }\n",
       "</style>\n",
       "<table border=\"1\" class=\"dataframe\">\n",
       "  <thead>\n",
       "    <tr style=\"text-align: right;\">\n",
       "      <th></th>\n",
       "      <th>Category</th>\n",
       "      <th>Rating</th>\n",
       "      <th>Reviews</th>\n",
       "      <th>Size</th>\n",
       "      <th>Installs</th>\n",
       "      <th>Type</th>\n",
       "      <th>Content Rating</th>\n",
       "      <th>year_added</th>\n",
       "      <th>month_added</th>\n",
       "    </tr>\n",
       "  </thead>\n",
       "  <tbody>\n",
       "    <tr>\n",
       "      <th>0</th>\n",
       "      <td>OTHER</td>\n",
       "      <td>4.1</td>\n",
       "      <td>159</td>\n",
       "      <td>19M</td>\n",
       "      <td>10,000+</td>\n",
       "      <td>Free</td>\n",
       "      <td>Everyone</td>\n",
       "      <td>2018</td>\n",
       "      <td>1</td>\n",
       "    </tr>\n",
       "    <tr>\n",
       "      <th>1</th>\n",
       "      <td>OTHER</td>\n",
       "      <td>3.9</td>\n",
       "      <td>967</td>\n",
       "      <td>14M</td>\n",
       "      <td>500,000+</td>\n",
       "      <td>Free</td>\n",
       "      <td>Everyone</td>\n",
       "      <td>2018</td>\n",
       "      <td>1</td>\n",
       "    </tr>\n",
       "    <tr>\n",
       "      <th>2</th>\n",
       "      <td>OTHER</td>\n",
       "      <td>4.7</td>\n",
       "      <td>87510</td>\n",
       "      <td>8.7M</td>\n",
       "      <td>5,000,000+</td>\n",
       "      <td>Free</td>\n",
       "      <td>Everyone</td>\n",
       "      <td>2018</td>\n",
       "      <td>8</td>\n",
       "    </tr>\n",
       "    <tr>\n",
       "      <th>3</th>\n",
       "      <td>OTHER</td>\n",
       "      <td>4.5</td>\n",
       "      <td>215644</td>\n",
       "      <td>25M</td>\n",
       "      <td>50,000,000+</td>\n",
       "      <td>Free</td>\n",
       "      <td>Teen</td>\n",
       "      <td>2018</td>\n",
       "      <td>6</td>\n",
       "    </tr>\n",
       "    <tr>\n",
       "      <th>4</th>\n",
       "      <td>OTHER</td>\n",
       "      <td>4.3</td>\n",
       "      <td>967</td>\n",
       "      <td>2.8M</td>\n",
       "      <td>100,000+</td>\n",
       "      <td>Free</td>\n",
       "      <td>Everyone</td>\n",
       "      <td>2018</td>\n",
       "      <td>6</td>\n",
       "    </tr>\n",
       "    <tr>\n",
       "      <th>...</th>\n",
       "      <td>...</td>\n",
       "      <td>...</td>\n",
       "      <td>...</td>\n",
       "      <td>...</td>\n",
       "      <td>...</td>\n",
       "      <td>...</td>\n",
       "      <td>...</td>\n",
       "      <td>...</td>\n",
       "      <td>...</td>\n",
       "    </tr>\n",
       "    <tr>\n",
       "      <th>10834</th>\n",
       "      <td>FAMILY</td>\n",
       "      <td>4.0</td>\n",
       "      <td>7</td>\n",
       "      <td>2.6M</td>\n",
       "      <td>500+</td>\n",
       "      <td>Free</td>\n",
       "      <td>Everyone</td>\n",
       "      <td>2017</td>\n",
       "      <td>6</td>\n",
       "    </tr>\n",
       "    <tr>\n",
       "      <th>10836</th>\n",
       "      <td>FAMILY</td>\n",
       "      <td>4.5</td>\n",
       "      <td>38</td>\n",
       "      <td>53M</td>\n",
       "      <td>5,000+</td>\n",
       "      <td>Free</td>\n",
       "      <td>Everyone</td>\n",
       "      <td>2017</td>\n",
       "      <td>7</td>\n",
       "    </tr>\n",
       "    <tr>\n",
       "      <th>10837</th>\n",
       "      <td>FAMILY</td>\n",
       "      <td>5.0</td>\n",
       "      <td>4</td>\n",
       "      <td>3.6M</td>\n",
       "      <td>100+</td>\n",
       "      <td>Free</td>\n",
       "      <td>Everyone</td>\n",
       "      <td>2018</td>\n",
       "      <td>7</td>\n",
       "    </tr>\n",
       "    <tr>\n",
       "      <th>10839</th>\n",
       "      <td>BOOKS_AND_REFERENCE</td>\n",
       "      <td>4.5</td>\n",
       "      <td>114</td>\n",
       "      <td>Varies with device</td>\n",
       "      <td>1,000+</td>\n",
       "      <td>Free</td>\n",
       "      <td>Mature 17+</td>\n",
       "      <td>2015</td>\n",
       "      <td>1</td>\n",
       "    </tr>\n",
       "    <tr>\n",
       "      <th>10840</th>\n",
       "      <td>LIFESTYLE</td>\n",
       "      <td>4.5</td>\n",
       "      <td>398307</td>\n",
       "      <td>19M</td>\n",
       "      <td>10,000,000+</td>\n",
       "      <td>Free</td>\n",
       "      <td>Everyone</td>\n",
       "      <td>2018</td>\n",
       "      <td>7</td>\n",
       "    </tr>\n",
       "  </tbody>\n",
       "</table>\n",
       "<p>9360 rows × 9 columns</p>\n",
       "</div>"
      ],
      "text/plain": [
       "                  Category  Rating Reviews                Size     Installs  \\\n",
       "0                    OTHER     4.1     159                 19M      10,000+   \n",
       "1                    OTHER     3.9     967                 14M     500,000+   \n",
       "2                    OTHER     4.7   87510                8.7M   5,000,000+   \n",
       "3                    OTHER     4.5  215644                 25M  50,000,000+   \n",
       "4                    OTHER     4.3     967                2.8M     100,000+   \n",
       "...                    ...     ...     ...                 ...          ...   \n",
       "10834               FAMILY     4.0       7                2.6M         500+   \n",
       "10836               FAMILY     4.5      38                 53M       5,000+   \n",
       "10837               FAMILY     5.0       4                3.6M         100+   \n",
       "10839  BOOKS_AND_REFERENCE     4.5     114  Varies with device       1,000+   \n",
       "10840            LIFESTYLE     4.5  398307                 19M  10,000,000+   \n",
       "\n",
       "       Type Content Rating  year_added  month_added  \n",
       "0      Free       Everyone        2018            1  \n",
       "1      Free       Everyone        2018            1  \n",
       "2      Free       Everyone        2018            8  \n",
       "3      Free           Teen        2018            6  \n",
       "4      Free       Everyone        2018            6  \n",
       "...     ...            ...         ...          ...  \n",
       "10834  Free       Everyone        2017            6  \n",
       "10836  Free       Everyone        2017            7  \n",
       "10837  Free       Everyone        2018            7  \n",
       "10839  Free     Mature 17+        2015            1  \n",
       "10840  Free       Everyone        2018            7  \n",
       "\n",
       "[9360 rows x 9 columns]"
      ]
     },
     "execution_count": 14,
     "metadata": {},
     "output_type": "execute_result"
    }
   ],
   "source": [
    "X.drop([\"App\",\"Genres\",\"Last Updated\",\"Current Ver\",\"Price\",\"Android Ver\"], axis=1, inplace=True)\n",
    "X"
   ]
  },
  {
   "cell_type": "code",
   "execution_count": 15,
   "id": "221d2dbe",
   "metadata": {
    "execution": {
     "iopub.execute_input": "2023-05-21T12:02:26.972123Z",
     "iopub.status.busy": "2023-05-21T12:02:26.971755Z",
     "iopub.status.idle": "2023-05-21T12:02:26.980599Z",
     "shell.execute_reply": "2023-05-21T12:02:26.979238Z"
    },
    "papermill": {
     "duration": 0.022989,
     "end_time": "2023-05-21T12:02:26.982975",
     "exception": false,
     "start_time": "2023-05-21T12:02:26.959986",
     "status": "completed"
    },
    "tags": []
   },
   "outputs": [
    {
     "data": {
      "text/plain": [
       "Everyone           7414\n",
       "Teen               1084\n",
       "Mature 17+          461\n",
       "Everyone 10+        397\n",
       "Adults only 18+       3\n",
       "Unrated               1\n",
       "Name: Content Rating, dtype: int64"
      ]
     },
     "execution_count": 15,
     "metadata": {},
     "output_type": "execute_result"
    }
   ],
   "source": [
    "X[\"Content Rating\"].value_counts()"
   ]
  },
  {
   "cell_type": "code",
   "execution_count": 16,
   "id": "f53e347e",
   "metadata": {
    "execution": {
     "iopub.execute_input": "2023-05-21T12:02:27.008580Z",
     "iopub.status.busy": "2023-05-21T12:02:27.007956Z",
     "iopub.status.idle": "2023-05-21T12:02:27.020909Z",
     "shell.execute_reply": "2023-05-21T12:02:27.019255Z"
    },
    "papermill": {
     "duration": 0.028454,
     "end_time": "2023-05-21T12:02:27.023131",
     "exception": false,
     "start_time": "2023-05-21T12:02:26.994677",
     "status": "completed"
    },
    "tags": []
   },
   "outputs": [
    {
     "data": {
      "text/plain": [
       "Everyone        7414\n",
       "Teen            1084\n",
       "Mature 17+       461\n",
       "Everyone 10+     397\n",
       "Name: Content Rating, dtype: int64"
      ]
     },
     "execution_count": 16,
     "metadata": {},
     "output_type": "execute_result"
    }
   ],
   "source": [
    "# The code is filtering the DataFrame `X` to exclude rows where the \"Content Rating\" column has values \"Adults only 18+\" or \"Unrated\".\n",
    "# It then counts the number of occurrences of each unique value in the \"Content Rating\" column.\n",
    "X = X[X[\"Content Rating\"].isin([\"Adults only 18+\",\"Unrated\"]) == False]\n",
    "X[\"Content Rating\"].value_counts()"
   ]
  },
  {
   "cell_type": "code",
   "execution_count": 17,
   "id": "ce29b65c",
   "metadata": {
    "execution": {
     "iopub.execute_input": "2023-05-21T12:02:27.049384Z",
     "iopub.status.busy": "2023-05-21T12:02:27.048231Z",
     "iopub.status.idle": "2023-05-21T12:02:27.053436Z",
     "shell.execute_reply": "2023-05-21T12:02:27.052269Z"
    },
    "papermill": {
     "duration": 0.019744,
     "end_time": "2023-05-21T12:02:27.055337",
     "exception": false,
     "start_time": "2023-05-21T12:02:27.035593",
     "status": "completed"
    },
    "tags": []
   },
   "outputs": [],
   "source": [
    "# Ver_count = X[\"Android Ver\"].value_counts()\n",
    "# Ver_count"
   ]
  },
  {
   "cell_type": "code",
   "execution_count": 18,
   "id": "d67f057e",
   "metadata": {
    "execution": {
     "iopub.execute_input": "2023-05-21T12:02:27.080243Z",
     "iopub.status.busy": "2023-05-21T12:02:27.079889Z",
     "iopub.status.idle": "2023-05-21T12:02:27.084510Z",
     "shell.execute_reply": "2023-05-21T12:02:27.083154Z"
    },
    "papermill": {
     "duration": 0.020757,
     "end_time": "2023-05-21T12:02:27.086983",
     "exception": false,
     "start_time": "2023-05-21T12:02:27.066226",
     "status": "completed"
    },
    "tags": []
   },
   "outputs": [],
   "source": [
    "# other_val = Ver_count[Ver_count<50]\n",
    "# X.loc[\"Android Ver\"] = X.loc[ : ,\"Android Ver\"].apply(lambda x: None if x in other_val else x)\n",
    "# X.dropna(inplace = True)\n",
    "# X[\"Android Ver\"].value_counts(sort=True)"
   ]
  },
  {
   "cell_type": "code",
   "execution_count": 19,
   "id": "8ca7aabf",
   "metadata": {
    "execution": {
     "iopub.execute_input": "2023-05-21T12:02:27.111780Z",
     "iopub.status.busy": "2023-05-21T12:02:27.111103Z",
     "iopub.status.idle": "2023-05-21T12:02:27.120720Z",
     "shell.execute_reply": "2023-05-21T12:02:27.119510Z"
    },
    "papermill": {
     "duration": 0.024676,
     "end_time": "2023-05-21T12:02:27.123144",
     "exception": false,
     "start_time": "2023-05-21T12:02:27.098468",
     "status": "completed"
    },
    "tags": []
   },
   "outputs": [
    {
     "data": {
      "text/plain": [
       "Free    8711\n",
       "Paid     645\n",
       "Name: Type, dtype: int64"
      ]
     },
     "execution_count": 19,
     "metadata": {},
     "output_type": "execute_result"
    }
   ],
   "source": [
    "X.Type.value_counts()"
   ]
  },
  {
   "cell_type": "code",
   "execution_count": 20,
   "id": "29c3f111",
   "metadata": {
    "execution": {
     "iopub.execute_input": "2023-05-21T12:02:27.148001Z",
     "iopub.status.busy": "2023-05-21T12:02:27.147609Z",
     "iopub.status.idle": "2023-05-21T12:02:27.173499Z",
     "shell.execute_reply": "2023-05-21T12:02:27.172554Z"
    },
    "papermill": {
     "duration": 0.040459,
     "end_time": "2023-05-21T12:02:27.175452",
     "exception": false,
     "start_time": "2023-05-21T12:02:27.134993",
     "status": "completed"
    },
    "tags": []
   },
   "outputs": [
    {
     "data": {
      "text/html": [
       "<div>\n",
       "<style scoped>\n",
       "    .dataframe tbody tr th:only-of-type {\n",
       "        vertical-align: middle;\n",
       "    }\n",
       "\n",
       "    .dataframe tbody tr th {\n",
       "        vertical-align: top;\n",
       "    }\n",
       "\n",
       "    .dataframe thead th {\n",
       "        text-align: right;\n",
       "    }\n",
       "</style>\n",
       "<table border=\"1\" class=\"dataframe\">\n",
       "  <thead>\n",
       "    <tr style=\"text-align: right;\">\n",
       "      <th></th>\n",
       "      <th>Category</th>\n",
       "      <th>Rating</th>\n",
       "      <th>Reviews</th>\n",
       "      <th>Size</th>\n",
       "      <th>Installs</th>\n",
       "      <th>Type</th>\n",
       "      <th>Content Rating</th>\n",
       "      <th>year_added</th>\n",
       "      <th>month_added</th>\n",
       "    </tr>\n",
       "  </thead>\n",
       "  <tbody>\n",
       "    <tr>\n",
       "      <th>0</th>\n",
       "      <td>OTHER</td>\n",
       "      <td>4.1</td>\n",
       "      <td>159</td>\n",
       "      <td>19M</td>\n",
       "      <td>10,000+</td>\n",
       "      <td>Free</td>\n",
       "      <td>Everyone</td>\n",
       "      <td>2018</td>\n",
       "      <td>1</td>\n",
       "    </tr>\n",
       "    <tr>\n",
       "      <th>1</th>\n",
       "      <td>OTHER</td>\n",
       "      <td>3.9</td>\n",
       "      <td>967</td>\n",
       "      <td>14M</td>\n",
       "      <td>500,000+</td>\n",
       "      <td>Free</td>\n",
       "      <td>Everyone</td>\n",
       "      <td>2018</td>\n",
       "      <td>1</td>\n",
       "    </tr>\n",
       "    <tr>\n",
       "      <th>2</th>\n",
       "      <td>OTHER</td>\n",
       "      <td>4.7</td>\n",
       "      <td>87510</td>\n",
       "      <td>8.7M</td>\n",
       "      <td>5,000,000+</td>\n",
       "      <td>Free</td>\n",
       "      <td>Everyone</td>\n",
       "      <td>2018</td>\n",
       "      <td>8</td>\n",
       "    </tr>\n",
       "    <tr>\n",
       "      <th>3</th>\n",
       "      <td>OTHER</td>\n",
       "      <td>4.5</td>\n",
       "      <td>215644</td>\n",
       "      <td>25M</td>\n",
       "      <td>50,000,000+</td>\n",
       "      <td>Free</td>\n",
       "      <td>Teen</td>\n",
       "      <td>2018</td>\n",
       "      <td>6</td>\n",
       "    </tr>\n",
       "    <tr>\n",
       "      <th>4</th>\n",
       "      <td>OTHER</td>\n",
       "      <td>4.3</td>\n",
       "      <td>967</td>\n",
       "      <td>2.8M</td>\n",
       "      <td>100,000+</td>\n",
       "      <td>Free</td>\n",
       "      <td>Everyone</td>\n",
       "      <td>2018</td>\n",
       "      <td>6</td>\n",
       "    </tr>\n",
       "    <tr>\n",
       "      <th>...</th>\n",
       "      <td>...</td>\n",
       "      <td>...</td>\n",
       "      <td>...</td>\n",
       "      <td>...</td>\n",
       "      <td>...</td>\n",
       "      <td>...</td>\n",
       "      <td>...</td>\n",
       "      <td>...</td>\n",
       "      <td>...</td>\n",
       "    </tr>\n",
       "    <tr>\n",
       "      <th>10834</th>\n",
       "      <td>FAMILY</td>\n",
       "      <td>4.0</td>\n",
       "      <td>7</td>\n",
       "      <td>2.6M</td>\n",
       "      <td>500+</td>\n",
       "      <td>Free</td>\n",
       "      <td>Everyone</td>\n",
       "      <td>2017</td>\n",
       "      <td>6</td>\n",
       "    </tr>\n",
       "    <tr>\n",
       "      <th>10836</th>\n",
       "      <td>FAMILY</td>\n",
       "      <td>4.5</td>\n",
       "      <td>38</td>\n",
       "      <td>53M</td>\n",
       "      <td>5,000+</td>\n",
       "      <td>Free</td>\n",
       "      <td>Everyone</td>\n",
       "      <td>2017</td>\n",
       "      <td>7</td>\n",
       "    </tr>\n",
       "    <tr>\n",
       "      <th>10837</th>\n",
       "      <td>FAMILY</td>\n",
       "      <td>5.0</td>\n",
       "      <td>4</td>\n",
       "      <td>3.6M</td>\n",
       "      <td>100+</td>\n",
       "      <td>Free</td>\n",
       "      <td>Everyone</td>\n",
       "      <td>2018</td>\n",
       "      <td>7</td>\n",
       "    </tr>\n",
       "    <tr>\n",
       "      <th>10839</th>\n",
       "      <td>BOOKS_AND_REFERENCE</td>\n",
       "      <td>4.5</td>\n",
       "      <td>114</td>\n",
       "      <td>None</td>\n",
       "      <td>1,000+</td>\n",
       "      <td>Free</td>\n",
       "      <td>Mature 17+</td>\n",
       "      <td>2015</td>\n",
       "      <td>1</td>\n",
       "    </tr>\n",
       "    <tr>\n",
       "      <th>10840</th>\n",
       "      <td>LIFESTYLE</td>\n",
       "      <td>4.5</td>\n",
       "      <td>398307</td>\n",
       "      <td>19M</td>\n",
       "      <td>10,000,000+</td>\n",
       "      <td>Free</td>\n",
       "      <td>Everyone</td>\n",
       "      <td>2018</td>\n",
       "      <td>7</td>\n",
       "    </tr>\n",
       "  </tbody>\n",
       "</table>\n",
       "<p>9356 rows × 9 columns</p>\n",
       "</div>"
      ],
      "text/plain": [
       "                  Category  Rating Reviews  Size     Installs  Type  \\\n",
       "0                    OTHER     4.1     159   19M      10,000+  Free   \n",
       "1                    OTHER     3.9     967   14M     500,000+  Free   \n",
       "2                    OTHER     4.7   87510  8.7M   5,000,000+  Free   \n",
       "3                    OTHER     4.5  215644   25M  50,000,000+  Free   \n",
       "4                    OTHER     4.3     967  2.8M     100,000+  Free   \n",
       "...                    ...     ...     ...   ...          ...   ...   \n",
       "10834               FAMILY     4.0       7  2.6M         500+  Free   \n",
       "10836               FAMILY     4.5      38   53M       5,000+  Free   \n",
       "10837               FAMILY     5.0       4  3.6M         100+  Free   \n",
       "10839  BOOKS_AND_REFERENCE     4.5     114  None       1,000+  Free   \n",
       "10840            LIFESTYLE     4.5  398307   19M  10,000,000+  Free   \n",
       "\n",
       "      Content Rating  year_added  month_added  \n",
       "0           Everyone        2018            1  \n",
       "1           Everyone        2018            1  \n",
       "2           Everyone        2018            8  \n",
       "3               Teen        2018            6  \n",
       "4           Everyone        2018            6  \n",
       "...              ...         ...          ...  \n",
       "10834       Everyone        2017            6  \n",
       "10836       Everyone        2017            7  \n",
       "10837       Everyone        2018            7  \n",
       "10839     Mature 17+        2015            1  \n",
       "10840       Everyone        2018            7  \n",
       "\n",
       "[9356 rows x 9 columns]"
      ]
     },
     "execution_count": 20,
     "metadata": {},
     "output_type": "execute_result"
    }
   ],
   "source": [
    "X = X.replace({\"Varies with device\" : None})\n",
    "X"
   ]
  },
  {
   "cell_type": "code",
   "execution_count": 21,
   "id": "f372c952",
   "metadata": {
    "execution": {
     "iopub.execute_input": "2023-05-21T12:02:27.200690Z",
     "iopub.status.busy": "2023-05-21T12:02:27.200048Z",
     "iopub.status.idle": "2023-05-21T12:02:27.209267Z",
     "shell.execute_reply": "2023-05-21T12:02:27.208237Z"
    },
    "papermill": {
     "duration": 0.025369,
     "end_time": "2023-05-21T12:02:27.212080",
     "exception": false,
     "start_time": "2023-05-21T12:02:27.186711",
     "status": "completed"
    },
    "tags": []
   },
   "outputs": [
    {
     "data": {
      "text/plain": [
       "14M     165\n",
       "12M     161\n",
       "15M     159\n",
       "11M     159\n",
       "13M     157\n",
       "       ... \n",
       "383k      1\n",
       "454k      1\n",
       "812k      1\n",
       "442k      1\n",
       "619k      1\n",
       "Name: Size, Length: 412, dtype: int64"
      ]
     },
     "execution_count": 21,
     "metadata": {},
     "output_type": "execute_result"
    }
   ],
   "source": [
    "X.Size.value_counts()"
   ]
  },
  {
   "cell_type": "code",
   "execution_count": 22,
   "id": "4da550de",
   "metadata": {
    "execution": {
     "iopub.execute_input": "2023-05-21T12:02:27.239979Z",
     "iopub.status.busy": "2023-05-21T12:02:27.239132Z",
     "iopub.status.idle": "2023-05-21T12:02:27.391352Z",
     "shell.execute_reply": "2023-05-21T12:02:27.390561Z"
    },
    "papermill": {
     "duration": 0.168699,
     "end_time": "2023-05-21T12:02:27.393520",
     "exception": false,
     "start_time": "2023-05-21T12:02:27.224821",
     "status": "completed"
    },
    "tags": []
   },
   "outputs": [],
   "source": [
    "# The code is performing some data manipulation on the `X.Size` column.\n",
    "\n",
    "M = X.Size.apply(lambda x: float(x[:-1],)/1024 if x is not None and x.endswith('k') else x)\n",
    "k = X.Size.apply(lambda x: float(x[:-1],) if x is not None and x.endswith('M') else x)\n",
    "X.Size = M.combine(other = k, func = lambda x,y: x if x is not None and type(x) is float else y)"
   ]
  },
  {
   "cell_type": "code",
   "execution_count": 23,
   "id": "167c3caf",
   "metadata": {
    "execution": {
     "iopub.execute_input": "2023-05-21T12:02:27.421398Z",
     "iopub.status.busy": "2023-05-21T12:02:27.420378Z",
     "iopub.status.idle": "2023-05-21T12:02:27.443030Z",
     "shell.execute_reply": "2023-05-21T12:02:27.441737Z"
    },
    "papermill": {
     "duration": 0.039002,
     "end_time": "2023-05-21T12:02:27.445105",
     "exception": false,
     "start_time": "2023-05-21T12:02:27.406103",
     "status": "completed"
    },
    "tags": []
   },
   "outputs": [
    {
     "name": "stdout",
     "output_type": "stream",
     "text": [
      "22.972271355347313\n"
     ]
    },
    {
     "data": {
      "text/plain": [
       "Category          0\n",
       "Rating            0\n",
       "Reviews           0\n",
       "Size              0\n",
       "Installs          0\n",
       "Type              0\n",
       "Content Rating    0\n",
       "year_added        0\n",
       "month_added       0\n",
       "dtype: int64"
      ]
     },
     "execution_count": 23,
     "metadata": {},
     "output_type": "execute_result"
    }
   ],
   "source": [
    "Sizemean = X.Size.mean()\n",
    "print(Sizemean)\n",
    "X.Size.fillna(value = Sizemean, inplace = True)\n",
    "X.isna().sum()"
   ]
  },
  {
   "cell_type": "code",
   "execution_count": 24,
   "id": "43f297fe",
   "metadata": {
    "execution": {
     "iopub.execute_input": "2023-05-21T12:02:27.473496Z",
     "iopub.status.busy": "2023-05-21T12:02:27.472478Z",
     "iopub.status.idle": "2023-05-21T12:02:27.478079Z",
     "shell.execute_reply": "2023-05-21T12:02:27.476360Z"
    },
    "papermill": {
     "duration": 0.023166,
     "end_time": "2023-05-21T12:02:27.481143",
     "exception": false,
     "start_time": "2023-05-21T12:02:27.457977",
     "status": "completed"
    },
    "tags": []
   },
   "outputs": [],
   "source": [
    "# X[\"Android Ver\"] = X.loc[:,\"Android Ver\"].apply(lambda x: float(x[:3]) if x is not None else x)\n",
    "# X[\"Android Ver\"]"
   ]
  },
  {
   "cell_type": "code",
   "execution_count": 25,
   "id": "2306ca7f",
   "metadata": {
    "execution": {
     "iopub.execute_input": "2023-05-21T12:02:27.509263Z",
     "iopub.status.busy": "2023-05-21T12:02:27.508808Z",
     "iopub.status.idle": "2023-05-21T12:02:27.515750Z",
     "shell.execute_reply": "2023-05-21T12:02:27.513549Z"
    },
    "papermill": {
     "duration": 0.02376,
     "end_time": "2023-05-21T12:02:27.518227",
     "exception": false,
     "start_time": "2023-05-21T12:02:27.494467",
     "status": "completed"
    },
    "tags": []
   },
   "outputs": [],
   "source": [
    "# X[\"Android Ver\"].fillna(method = \"ffill\", inplace = True)\n",
    "# # # Category_Avg = dict(g.mean(numeric_only=True)[\"Android Ver\"])\n",
    "# # Category_Avg\n",
    "# X.isna().sum()"
   ]
  },
  {
   "cell_type": "code",
   "execution_count": 26,
   "id": "c9767dc4",
   "metadata": {
    "execution": {
     "iopub.execute_input": "2023-05-21T12:02:27.547089Z",
     "iopub.status.busy": "2023-05-21T12:02:27.546679Z",
     "iopub.status.idle": "2023-05-21T12:02:27.569134Z",
     "shell.execute_reply": "2023-05-21T12:02:27.567957Z"
    },
    "papermill": {
     "duration": 0.043757,
     "end_time": "2023-05-21T12:02:27.575841",
     "exception": false,
     "start_time": "2023-05-21T12:02:27.532084",
     "status": "completed"
    },
    "tags": []
   },
   "outputs": [
    {
     "data": {
      "text/plain": [
       "1000000       1575\n",
       "10000000      1252\n",
       "100000        1150\n",
       "10000         1009\n",
       "5000000        752\n",
       "1000           712\n",
       "500000         535\n",
       "50000          465\n",
       "5000           431\n",
       "100000000      409\n",
       "100            309\n",
       "50000000       289\n",
       "500            201\n",
       "500000000       72\n",
       "10              69\n",
       "1000000000      58\n",
       "50              56\n",
       "5                9\n",
       "1                3\n",
       "Name: Installs, dtype: int64"
      ]
     },
     "execution_count": 26,
     "metadata": {},
     "output_type": "execute_result"
    }
   ],
   "source": [
    "#The code is performing some data cleaning and manipulation on the 'X.Installs' column of a DataFrame called 'X'.\n",
    "X.Installs = X.Installs.apply(lambda x: x[:-1] if x.endswith(\"+\") else x)\n",
    "X.Installs = X.Installs.apply(lambda x: x.replace(\",\",\"\") if x is not None else x)\n",
    "X.Installs.value_counts()"
   ]
  },
  {
   "cell_type": "code",
   "execution_count": 27,
   "id": "a99dd906",
   "metadata": {
    "execution": {
     "iopub.execute_input": "2023-05-21T12:02:27.612727Z",
     "iopub.status.busy": "2023-05-21T12:02:27.610396Z",
     "iopub.status.idle": "2023-05-21T12:02:27.617284Z",
     "shell.execute_reply": "2023-05-21T12:02:27.615794Z"
    },
    "papermill": {
     "duration": 0.024992,
     "end_time": "2023-05-21T12:02:27.619720",
     "exception": false,
     "start_time": "2023-05-21T12:02:27.594728",
     "status": "completed"
    },
    "tags": []
   },
   "outputs": [],
   "source": [
    "# X.Price = X.Price.apply(lambda x: float(x[1:]) if x.startswith(\"$\") else x)\n",
    "# X.Price.value_counts()"
   ]
  },
  {
   "cell_type": "code",
   "execution_count": 28,
   "id": "1929b5bd",
   "metadata": {
    "execution": {
     "iopub.execute_input": "2023-05-21T12:02:27.646734Z",
     "iopub.status.busy": "2023-05-21T12:02:27.646384Z",
     "iopub.status.idle": "2023-05-21T12:02:27.695700Z",
     "shell.execute_reply": "2023-05-21T12:02:27.693473Z"
    },
    "papermill": {
     "duration": 0.067469,
     "end_time": "2023-05-21T12:02:27.699657",
     "exception": false,
     "start_time": "2023-05-21T12:02:27.632188",
     "status": "completed"
    },
    "tags": []
   },
   "outputs": [
    {
     "data": {
      "text/html": [
       "<div>\n",
       "<style scoped>\n",
       "    .dataframe tbody tr th:only-of-type {\n",
       "        vertical-align: middle;\n",
       "    }\n",
       "\n",
       "    .dataframe tbody tr th {\n",
       "        vertical-align: top;\n",
       "    }\n",
       "\n",
       "    .dataframe thead th {\n",
       "        text-align: right;\n",
       "    }\n",
       "</style>\n",
       "<table border=\"1\" class=\"dataframe\">\n",
       "  <thead>\n",
       "    <tr style=\"text-align: right;\">\n",
       "      <th></th>\n",
       "      <th>Rating</th>\n",
       "      <th>Reviews</th>\n",
       "      <th>Size</th>\n",
       "      <th>Installs</th>\n",
       "      <th>year_added</th>\n",
       "      <th>month_added</th>\n",
       "      <th>catg_BUSINESS</th>\n",
       "      <th>catg_COMMUNICATION</th>\n",
       "      <th>catg_DATING</th>\n",
       "      <th>catg_FAMILY</th>\n",
       "      <th>...</th>\n",
       "      <th>catg_PRODUCTIVITY</th>\n",
       "      <th>catg_SHOPPING</th>\n",
       "      <th>catg_SOCIAL</th>\n",
       "      <th>catg_SPORTS</th>\n",
       "      <th>catg_TOOLS</th>\n",
       "      <th>catg_TRAVEL_AND_LOCAL</th>\n",
       "      <th>typ_Paid</th>\n",
       "      <th>cr_Everyone 10+</th>\n",
       "      <th>cr_Mature 17+</th>\n",
       "      <th>cr_Teen</th>\n",
       "    </tr>\n",
       "  </thead>\n",
       "  <tbody>\n",
       "    <tr>\n",
       "      <th>0</th>\n",
       "      <td>4.1</td>\n",
       "      <td>159</td>\n",
       "      <td>19.000000</td>\n",
       "      <td>10000</td>\n",
       "      <td>2018</td>\n",
       "      <td>1</td>\n",
       "      <td>0</td>\n",
       "      <td>0</td>\n",
       "      <td>0</td>\n",
       "      <td>0</td>\n",
       "      <td>...</td>\n",
       "      <td>0</td>\n",
       "      <td>0</td>\n",
       "      <td>0</td>\n",
       "      <td>0</td>\n",
       "      <td>0</td>\n",
       "      <td>0</td>\n",
       "      <td>0</td>\n",
       "      <td>0</td>\n",
       "      <td>0</td>\n",
       "      <td>0</td>\n",
       "    </tr>\n",
       "    <tr>\n",
       "      <th>1</th>\n",
       "      <td>3.9</td>\n",
       "      <td>967</td>\n",
       "      <td>14.000000</td>\n",
       "      <td>500000</td>\n",
       "      <td>2018</td>\n",
       "      <td>1</td>\n",
       "      <td>0</td>\n",
       "      <td>0</td>\n",
       "      <td>0</td>\n",
       "      <td>0</td>\n",
       "      <td>...</td>\n",
       "      <td>0</td>\n",
       "      <td>0</td>\n",
       "      <td>0</td>\n",
       "      <td>0</td>\n",
       "      <td>0</td>\n",
       "      <td>0</td>\n",
       "      <td>0</td>\n",
       "      <td>0</td>\n",
       "      <td>0</td>\n",
       "      <td>0</td>\n",
       "    </tr>\n",
       "    <tr>\n",
       "      <th>2</th>\n",
       "      <td>4.7</td>\n",
       "      <td>87510</td>\n",
       "      <td>8.700000</td>\n",
       "      <td>5000000</td>\n",
       "      <td>2018</td>\n",
       "      <td>8</td>\n",
       "      <td>0</td>\n",
       "      <td>0</td>\n",
       "      <td>0</td>\n",
       "      <td>0</td>\n",
       "      <td>...</td>\n",
       "      <td>0</td>\n",
       "      <td>0</td>\n",
       "      <td>0</td>\n",
       "      <td>0</td>\n",
       "      <td>0</td>\n",
       "      <td>0</td>\n",
       "      <td>0</td>\n",
       "      <td>0</td>\n",
       "      <td>0</td>\n",
       "      <td>0</td>\n",
       "    </tr>\n",
       "    <tr>\n",
       "      <th>3</th>\n",
       "      <td>4.5</td>\n",
       "      <td>215644</td>\n",
       "      <td>25.000000</td>\n",
       "      <td>50000000</td>\n",
       "      <td>2018</td>\n",
       "      <td>6</td>\n",
       "      <td>0</td>\n",
       "      <td>0</td>\n",
       "      <td>0</td>\n",
       "      <td>0</td>\n",
       "      <td>...</td>\n",
       "      <td>0</td>\n",
       "      <td>0</td>\n",
       "      <td>0</td>\n",
       "      <td>0</td>\n",
       "      <td>0</td>\n",
       "      <td>0</td>\n",
       "      <td>0</td>\n",
       "      <td>0</td>\n",
       "      <td>0</td>\n",
       "      <td>1</td>\n",
       "    </tr>\n",
       "    <tr>\n",
       "      <th>4</th>\n",
       "      <td>4.3</td>\n",
       "      <td>967</td>\n",
       "      <td>2.800000</td>\n",
       "      <td>100000</td>\n",
       "      <td>2018</td>\n",
       "      <td>6</td>\n",
       "      <td>0</td>\n",
       "      <td>0</td>\n",
       "      <td>0</td>\n",
       "      <td>0</td>\n",
       "      <td>...</td>\n",
       "      <td>0</td>\n",
       "      <td>0</td>\n",
       "      <td>0</td>\n",
       "      <td>0</td>\n",
       "      <td>0</td>\n",
       "      <td>0</td>\n",
       "      <td>0</td>\n",
       "      <td>0</td>\n",
       "      <td>0</td>\n",
       "      <td>0</td>\n",
       "    </tr>\n",
       "    <tr>\n",
       "      <th>...</th>\n",
       "      <td>...</td>\n",
       "      <td>...</td>\n",
       "      <td>...</td>\n",
       "      <td>...</td>\n",
       "      <td>...</td>\n",
       "      <td>...</td>\n",
       "      <td>...</td>\n",
       "      <td>...</td>\n",
       "      <td>...</td>\n",
       "      <td>...</td>\n",
       "      <td>...</td>\n",
       "      <td>...</td>\n",
       "      <td>...</td>\n",
       "      <td>...</td>\n",
       "      <td>...</td>\n",
       "      <td>...</td>\n",
       "      <td>...</td>\n",
       "      <td>...</td>\n",
       "      <td>...</td>\n",
       "      <td>...</td>\n",
       "      <td>...</td>\n",
       "    </tr>\n",
       "    <tr>\n",
       "      <th>10834</th>\n",
       "      <td>4.0</td>\n",
       "      <td>7</td>\n",
       "      <td>2.600000</td>\n",
       "      <td>500</td>\n",
       "      <td>2017</td>\n",
       "      <td>6</td>\n",
       "      <td>0</td>\n",
       "      <td>0</td>\n",
       "      <td>0</td>\n",
       "      <td>1</td>\n",
       "      <td>...</td>\n",
       "      <td>0</td>\n",
       "      <td>0</td>\n",
       "      <td>0</td>\n",
       "      <td>0</td>\n",
       "      <td>0</td>\n",
       "      <td>0</td>\n",
       "      <td>0</td>\n",
       "      <td>0</td>\n",
       "      <td>0</td>\n",
       "      <td>0</td>\n",
       "    </tr>\n",
       "    <tr>\n",
       "      <th>10836</th>\n",
       "      <td>4.5</td>\n",
       "      <td>38</td>\n",
       "      <td>53.000000</td>\n",
       "      <td>5000</td>\n",
       "      <td>2017</td>\n",
       "      <td>7</td>\n",
       "      <td>0</td>\n",
       "      <td>0</td>\n",
       "      <td>0</td>\n",
       "      <td>1</td>\n",
       "      <td>...</td>\n",
       "      <td>0</td>\n",
       "      <td>0</td>\n",
       "      <td>0</td>\n",
       "      <td>0</td>\n",
       "      <td>0</td>\n",
       "      <td>0</td>\n",
       "      <td>0</td>\n",
       "      <td>0</td>\n",
       "      <td>0</td>\n",
       "      <td>0</td>\n",
       "    </tr>\n",
       "    <tr>\n",
       "      <th>10837</th>\n",
       "      <td>5.0</td>\n",
       "      <td>4</td>\n",
       "      <td>3.600000</td>\n",
       "      <td>100</td>\n",
       "      <td>2018</td>\n",
       "      <td>7</td>\n",
       "      <td>0</td>\n",
       "      <td>0</td>\n",
       "      <td>0</td>\n",
       "      <td>1</td>\n",
       "      <td>...</td>\n",
       "      <td>0</td>\n",
       "      <td>0</td>\n",
       "      <td>0</td>\n",
       "      <td>0</td>\n",
       "      <td>0</td>\n",
       "      <td>0</td>\n",
       "      <td>0</td>\n",
       "      <td>0</td>\n",
       "      <td>0</td>\n",
       "      <td>0</td>\n",
       "    </tr>\n",
       "    <tr>\n",
       "      <th>10839</th>\n",
       "      <td>4.5</td>\n",
       "      <td>114</td>\n",
       "      <td>22.972271</td>\n",
       "      <td>1000</td>\n",
       "      <td>2015</td>\n",
       "      <td>1</td>\n",
       "      <td>0</td>\n",
       "      <td>0</td>\n",
       "      <td>0</td>\n",
       "      <td>0</td>\n",
       "      <td>...</td>\n",
       "      <td>0</td>\n",
       "      <td>0</td>\n",
       "      <td>0</td>\n",
       "      <td>0</td>\n",
       "      <td>0</td>\n",
       "      <td>0</td>\n",
       "      <td>0</td>\n",
       "      <td>0</td>\n",
       "      <td>1</td>\n",
       "      <td>0</td>\n",
       "    </tr>\n",
       "    <tr>\n",
       "      <th>10840</th>\n",
       "      <td>4.5</td>\n",
       "      <td>398307</td>\n",
       "      <td>19.000000</td>\n",
       "      <td>10000000</td>\n",
       "      <td>2018</td>\n",
       "      <td>7</td>\n",
       "      <td>0</td>\n",
       "      <td>0</td>\n",
       "      <td>0</td>\n",
       "      <td>0</td>\n",
       "      <td>...</td>\n",
       "      <td>0</td>\n",
       "      <td>0</td>\n",
       "      <td>0</td>\n",
       "      <td>0</td>\n",
       "      <td>0</td>\n",
       "      <td>0</td>\n",
       "      <td>0</td>\n",
       "      <td>0</td>\n",
       "      <td>0</td>\n",
       "      <td>0</td>\n",
       "    </tr>\n",
       "  </tbody>\n",
       "</table>\n",
       "<p>9356 rows × 29 columns</p>\n",
       "</div>"
      ],
      "text/plain": [
       "       Rating Reviews       Size  Installs  year_added  month_added  \\\n",
       "0         4.1     159  19.000000     10000        2018            1   \n",
       "1         3.9     967  14.000000    500000        2018            1   \n",
       "2         4.7   87510   8.700000   5000000        2018            8   \n",
       "3         4.5  215644  25.000000  50000000        2018            6   \n",
       "4         4.3     967   2.800000    100000        2018            6   \n",
       "...       ...     ...        ...       ...         ...          ...   \n",
       "10834     4.0       7   2.600000       500        2017            6   \n",
       "10836     4.5      38  53.000000      5000        2017            7   \n",
       "10837     5.0       4   3.600000       100        2018            7   \n",
       "10839     4.5     114  22.972271      1000        2015            1   \n",
       "10840     4.5  398307  19.000000  10000000        2018            7   \n",
       "\n",
       "       catg_BUSINESS  catg_COMMUNICATION  catg_DATING  catg_FAMILY  ...  \\\n",
       "0                  0                   0            0            0  ...   \n",
       "1                  0                   0            0            0  ...   \n",
       "2                  0                   0            0            0  ...   \n",
       "3                  0                   0            0            0  ...   \n",
       "4                  0                   0            0            0  ...   \n",
       "...              ...                 ...          ...          ...  ...   \n",
       "10834              0                   0            0            1  ...   \n",
       "10836              0                   0            0            1  ...   \n",
       "10837              0                   0            0            1  ...   \n",
       "10839              0                   0            0            0  ...   \n",
       "10840              0                   0            0            0  ...   \n",
       "\n",
       "       catg_PRODUCTIVITY  catg_SHOPPING  catg_SOCIAL  catg_SPORTS  catg_TOOLS  \\\n",
       "0                      0              0            0            0           0   \n",
       "1                      0              0            0            0           0   \n",
       "2                      0              0            0            0           0   \n",
       "3                      0              0            0            0           0   \n",
       "4                      0              0            0            0           0   \n",
       "...                  ...            ...          ...          ...         ...   \n",
       "10834                  0              0            0            0           0   \n",
       "10836                  0              0            0            0           0   \n",
       "10837                  0              0            0            0           0   \n",
       "10839                  0              0            0            0           0   \n",
       "10840                  0              0            0            0           0   \n",
       "\n",
       "       catg_TRAVEL_AND_LOCAL  typ_Paid  cr_Everyone 10+  cr_Mature 17+  \\\n",
       "0                          0         0                0              0   \n",
       "1                          0         0                0              0   \n",
       "2                          0         0                0              0   \n",
       "3                          0         0                0              0   \n",
       "4                          0         0                0              0   \n",
       "...                      ...       ...              ...            ...   \n",
       "10834                      0         0                0              0   \n",
       "10836                      0         0                0              0   \n",
       "10837                      0         0                0              0   \n",
       "10839                      0         0                0              1   \n",
       "10840                      0         0                0              0   \n",
       "\n",
       "       cr_Teen  \n",
       "0            0  \n",
       "1            0  \n",
       "2            0  \n",
       "3            1  \n",
       "4            0  \n",
       "...        ...  \n",
       "10834        0  \n",
       "10836        0  \n",
       "10837        0  \n",
       "10839        0  \n",
       "10840        0  \n",
       "\n",
       "[9356 rows x 29 columns]"
      ]
     },
     "execution_count": 28,
     "metadata": {},
     "output_type": "execute_result"
    }
   ],
   "source": [
    "# The code is performing one-hot encoding on the categorical variables 'Category', 'Type', and 'Content Rating' in the DataFrame X.\n",
    "\n",
    "catgry=pd.get_dummies(X['Category'],prefix='catg',drop_first=True)\n",
    "typ=pd.get_dummies(X['Type'],prefix='typ',drop_first=True)\n",
    "cr=pd.get_dummies(X['Content Rating'],prefix='cr',drop_first=True)\n",
    "frames=[X,catgry,typ,cr]\n",
    "X=pd.concat(frames,axis=1)\n",
    "X.drop(['Category','Type','Content Rating'],axis=1,inplace=True)\n",
    "X"
   ]
  },
  {
   "cell_type": "code",
   "execution_count": 29,
   "id": "29385b00",
   "metadata": {
    "execution": {
     "iopub.execute_input": "2023-05-21T12:02:27.730208Z",
     "iopub.status.busy": "2023-05-21T12:02:27.728981Z",
     "iopub.status.idle": "2023-05-21T12:02:27.736050Z",
     "shell.execute_reply": "2023-05-21T12:02:27.735125Z"
    },
    "papermill": {
     "duration": 0.024175,
     "end_time": "2023-05-21T12:02:27.738180",
     "exception": false,
     "start_time": "2023-05-21T12:02:27.714005",
     "status": "completed"
    },
    "tags": []
   },
   "outputs": [],
   "source": [
    "y=X['Rating'].values\n",
    "y=y.astype('int')\n",
    "X = X.drop([\"Rating\"],axis = 1)"
   ]
  },
  {
   "cell_type": "code",
   "execution_count": 30,
   "id": "e3f3cf1e",
   "metadata": {
    "execution": {
     "iopub.execute_input": "2023-05-21T12:02:27.769281Z",
     "iopub.status.busy": "2023-05-21T12:02:27.768665Z",
     "iopub.status.idle": "2023-05-21T12:02:27.777427Z",
     "shell.execute_reply": "2023-05-21T12:02:27.776407Z"
    },
    "papermill": {
     "duration": 0.026605,
     "end_time": "2023-05-21T12:02:27.779506",
     "exception": false,
     "start_time": "2023-05-21T12:02:27.752901",
     "status": "completed"
    },
    "tags": []
   },
   "outputs": [
    {
     "data": {
      "text/plain": [
       "Index(['Reviews', 'Size', 'Installs', 'year_added', 'month_added',\n",
       "       'catg_BUSINESS', 'catg_COMMUNICATION', 'catg_DATING', 'catg_FAMILY',\n",
       "       'catg_FINANCE', 'catg_GAME', 'catg_HEALTH_AND_FITNESS',\n",
       "       'catg_LIFESTYLE', 'catg_MEDICAL', 'catg_NEWS_AND_MAGAZINES',\n",
       "       'catg_OTHER', 'catg_PERSONALIZATION', 'catg_PHOTOGRAPHY',\n",
       "       'catg_PRODUCTIVITY', 'catg_SHOPPING', 'catg_SOCIAL', 'catg_SPORTS',\n",
       "       'catg_TOOLS', 'catg_TRAVEL_AND_LOCAL', 'typ_Paid', 'cr_Everyone 10+',\n",
       "       'cr_Mature 17+', 'cr_Teen'],\n",
       "      dtype='object')"
      ]
     },
     "execution_count": 30,
     "metadata": {},
     "output_type": "execute_result"
    }
   ],
   "source": [
    "X.columns"
   ]
  },
  {
   "cell_type": "code",
   "execution_count": 31,
   "id": "93e22cb7",
   "metadata": {
    "execution": {
     "iopub.execute_input": "2023-05-21T12:02:27.808182Z",
     "iopub.status.busy": "2023-05-21T12:02:27.807640Z",
     "iopub.status.idle": "2023-05-21T12:02:27.864830Z",
     "shell.execute_reply": "2023-05-21T12:02:27.863113Z"
    },
    "papermill": {
     "duration": 0.074574,
     "end_time": "2023-05-21T12:02:27.867484",
     "exception": false,
     "start_time": "2023-05-21T12:02:27.792910",
     "status": "completed"
    },
    "tags": []
   },
   "outputs": [
    {
     "data": {
      "text/html": [
       "<div>\n",
       "<style scoped>\n",
       "    .dataframe tbody tr th:only-of-type {\n",
       "        vertical-align: middle;\n",
       "    }\n",
       "\n",
       "    .dataframe tbody tr th {\n",
       "        vertical-align: top;\n",
       "    }\n",
       "\n",
       "    .dataframe thead th {\n",
       "        text-align: right;\n",
       "    }\n",
       "</style>\n",
       "<table border=\"1\" class=\"dataframe\">\n",
       "  <thead>\n",
       "    <tr style=\"text-align: right;\">\n",
       "      <th></th>\n",
       "      <th>Reviews</th>\n",
       "      <th>Size</th>\n",
       "      <th>Installs</th>\n",
       "      <th>year_added</th>\n",
       "      <th>month_added</th>\n",
       "      <th>catg_BUSINESS</th>\n",
       "      <th>catg_COMMUNICATION</th>\n",
       "      <th>catg_DATING</th>\n",
       "      <th>catg_FAMILY</th>\n",
       "      <th>catg_FINANCE</th>\n",
       "      <th>...</th>\n",
       "      <th>catg_PRODUCTIVITY</th>\n",
       "      <th>catg_SHOPPING</th>\n",
       "      <th>catg_SOCIAL</th>\n",
       "      <th>catg_SPORTS</th>\n",
       "      <th>catg_TOOLS</th>\n",
       "      <th>catg_TRAVEL_AND_LOCAL</th>\n",
       "      <th>typ_Paid</th>\n",
       "      <th>cr_Everyone 10+</th>\n",
       "      <th>cr_Mature 17+</th>\n",
       "      <th>cr_Teen</th>\n",
       "    </tr>\n",
       "  </thead>\n",
       "  <tbody>\n",
       "    <tr>\n",
       "      <th>0</th>\n",
       "      <td>2.021538e-06</td>\n",
       "      <td>0.189933</td>\n",
       "      <td>9.999000e-06</td>\n",
       "      <td>2018</td>\n",
       "      <td>1</td>\n",
       "      <td>0</td>\n",
       "      <td>0</td>\n",
       "      <td>0</td>\n",
       "      <td>0</td>\n",
       "      <td>0</td>\n",
       "      <td>...</td>\n",
       "      <td>0</td>\n",
       "      <td>0</td>\n",
       "      <td>0</td>\n",
       "      <td>0</td>\n",
       "      <td>0</td>\n",
       "      <td>0</td>\n",
       "      <td>0</td>\n",
       "      <td>0</td>\n",
       "      <td>0</td>\n",
       "      <td>0</td>\n",
       "    </tr>\n",
       "    <tr>\n",
       "      <th>1</th>\n",
       "      <td>1.235953e-05</td>\n",
       "      <td>0.139929</td>\n",
       "      <td>4.999990e-04</td>\n",
       "      <td>2018</td>\n",
       "      <td>1</td>\n",
       "      <td>0</td>\n",
       "      <td>0</td>\n",
       "      <td>0</td>\n",
       "      <td>0</td>\n",
       "      <td>0</td>\n",
       "      <td>...</td>\n",
       "      <td>0</td>\n",
       "      <td>0</td>\n",
       "      <td>0</td>\n",
       "      <td>0</td>\n",
       "      <td>0</td>\n",
       "      <td>0</td>\n",
       "      <td>0</td>\n",
       "      <td>0</td>\n",
       "      <td>0</td>\n",
       "      <td>0</td>\n",
       "    </tr>\n",
       "    <tr>\n",
       "      <th>2</th>\n",
       "      <td>1.119638e-03</td>\n",
       "      <td>0.086924</td>\n",
       "      <td>4.999999e-03</td>\n",
       "      <td>2018</td>\n",
       "      <td>8</td>\n",
       "      <td>0</td>\n",
       "      <td>0</td>\n",
       "      <td>0</td>\n",
       "      <td>0</td>\n",
       "      <td>0</td>\n",
       "      <td>...</td>\n",
       "      <td>0</td>\n",
       "      <td>0</td>\n",
       "      <td>0</td>\n",
       "      <td>0</td>\n",
       "      <td>0</td>\n",
       "      <td>0</td>\n",
       "      <td>0</td>\n",
       "      <td>0</td>\n",
       "      <td>0</td>\n",
       "      <td>0</td>\n",
       "    </tr>\n",
       "    <tr>\n",
       "      <th>3</th>\n",
       "      <td>2.759054e-03</td>\n",
       "      <td>0.249938</td>\n",
       "      <td>5.000000e-02</td>\n",
       "      <td>2018</td>\n",
       "      <td>6</td>\n",
       "      <td>0</td>\n",
       "      <td>0</td>\n",
       "      <td>0</td>\n",
       "      <td>0</td>\n",
       "      <td>0</td>\n",
       "      <td>...</td>\n",
       "      <td>0</td>\n",
       "      <td>0</td>\n",
       "      <td>0</td>\n",
       "      <td>0</td>\n",
       "      <td>0</td>\n",
       "      <td>0</td>\n",
       "      <td>0</td>\n",
       "      <td>0</td>\n",
       "      <td>0</td>\n",
       "      <td>1</td>\n",
       "    </tr>\n",
       "    <tr>\n",
       "      <th>4</th>\n",
       "      <td>1.235953e-05</td>\n",
       "      <td>0.027919</td>\n",
       "      <td>9.999900e-05</td>\n",
       "      <td>2018</td>\n",
       "      <td>6</td>\n",
       "      <td>0</td>\n",
       "      <td>0</td>\n",
       "      <td>0</td>\n",
       "      <td>0</td>\n",
       "      <td>0</td>\n",
       "      <td>...</td>\n",
       "      <td>0</td>\n",
       "      <td>0</td>\n",
       "      <td>0</td>\n",
       "      <td>0</td>\n",
       "      <td>0</td>\n",
       "      <td>0</td>\n",
       "      <td>0</td>\n",
       "      <td>0</td>\n",
       "      <td>0</td>\n",
       "      <td>0</td>\n",
       "    </tr>\n",
       "    <tr>\n",
       "      <th>...</th>\n",
       "      <td>...</td>\n",
       "      <td>...</td>\n",
       "      <td>...</td>\n",
       "      <td>...</td>\n",
       "      <td>...</td>\n",
       "      <td>...</td>\n",
       "      <td>...</td>\n",
       "      <td>...</td>\n",
       "      <td>...</td>\n",
       "      <td>...</td>\n",
       "      <td>...</td>\n",
       "      <td>...</td>\n",
       "      <td>...</td>\n",
       "      <td>...</td>\n",
       "      <td>...</td>\n",
       "      <td>...</td>\n",
       "      <td>...</td>\n",
       "      <td>...</td>\n",
       "      <td>...</td>\n",
       "      <td>...</td>\n",
       "      <td>...</td>\n",
       "    </tr>\n",
       "    <tr>\n",
       "      <th>10834</th>\n",
       "      <td>7.676727e-08</td>\n",
       "      <td>0.025919</td>\n",
       "      <td>4.990000e-07</td>\n",
       "      <td>2017</td>\n",
       "      <td>6</td>\n",
       "      <td>0</td>\n",
       "      <td>0</td>\n",
       "      <td>0</td>\n",
       "      <td>1</td>\n",
       "      <td>0</td>\n",
       "      <td>...</td>\n",
       "      <td>0</td>\n",
       "      <td>0</td>\n",
       "      <td>0</td>\n",
       "      <td>0</td>\n",
       "      <td>0</td>\n",
       "      <td>0</td>\n",
       "      <td>0</td>\n",
       "      <td>0</td>\n",
       "      <td>0</td>\n",
       "      <td>0</td>\n",
       "    </tr>\n",
       "    <tr>\n",
       "      <th>10836</th>\n",
       "      <td>4.733982e-07</td>\n",
       "      <td>0.529961</td>\n",
       "      <td>4.999000e-06</td>\n",
       "      <td>2017</td>\n",
       "      <td>7</td>\n",
       "      <td>0</td>\n",
       "      <td>0</td>\n",
       "      <td>0</td>\n",
       "      <td>1</td>\n",
       "      <td>0</td>\n",
       "      <td>...</td>\n",
       "      <td>0</td>\n",
       "      <td>0</td>\n",
       "      <td>0</td>\n",
       "      <td>0</td>\n",
       "      <td>0</td>\n",
       "      <td>0</td>\n",
       "      <td>0</td>\n",
       "      <td>0</td>\n",
       "      <td>0</td>\n",
       "      <td>0</td>\n",
       "    </tr>\n",
       "    <tr>\n",
       "      <th>10837</th>\n",
       "      <td>3.838364e-08</td>\n",
       "      <td>0.035920</td>\n",
       "      <td>9.900000e-08</td>\n",
       "      <td>2018</td>\n",
       "      <td>7</td>\n",
       "      <td>0</td>\n",
       "      <td>0</td>\n",
       "      <td>0</td>\n",
       "      <td>1</td>\n",
       "      <td>0</td>\n",
       "      <td>...</td>\n",
       "      <td>0</td>\n",
       "      <td>0</td>\n",
       "      <td>0</td>\n",
       "      <td>0</td>\n",
       "      <td>0</td>\n",
       "      <td>0</td>\n",
       "      <td>0</td>\n",
       "      <td>0</td>\n",
       "      <td>0</td>\n",
       "      <td>0</td>\n",
       "    </tr>\n",
       "    <tr>\n",
       "      <th>10839</th>\n",
       "      <td>1.445784e-06</td>\n",
       "      <td>0.229659</td>\n",
       "      <td>9.990000e-07</td>\n",
       "      <td>2015</td>\n",
       "      <td>1</td>\n",
       "      <td>0</td>\n",
       "      <td>0</td>\n",
       "      <td>0</td>\n",
       "      <td>0</td>\n",
       "      <td>0</td>\n",
       "      <td>...</td>\n",
       "      <td>0</td>\n",
       "      <td>0</td>\n",
       "      <td>0</td>\n",
       "      <td>0</td>\n",
       "      <td>0</td>\n",
       "      <td>0</td>\n",
       "      <td>0</td>\n",
       "      <td>0</td>\n",
       "      <td>1</td>\n",
       "      <td>0</td>\n",
       "    </tr>\n",
       "    <tr>\n",
       "      <th>10840</th>\n",
       "      <td>5.096144e-03</td>\n",
       "      <td>0.189933</td>\n",
       "      <td>9.999999e-03</td>\n",
       "      <td>2018</td>\n",
       "      <td>7</td>\n",
       "      <td>0</td>\n",
       "      <td>0</td>\n",
       "      <td>0</td>\n",
       "      <td>0</td>\n",
       "      <td>0</td>\n",
       "      <td>...</td>\n",
       "      <td>0</td>\n",
       "      <td>0</td>\n",
       "      <td>0</td>\n",
       "      <td>0</td>\n",
       "      <td>0</td>\n",
       "      <td>0</td>\n",
       "      <td>0</td>\n",
       "      <td>0</td>\n",
       "      <td>0</td>\n",
       "      <td>0</td>\n",
       "    </tr>\n",
       "  </tbody>\n",
       "</table>\n",
       "<p>9356 rows × 28 columns</p>\n",
       "</div>"
      ],
      "text/plain": [
       "            Reviews      Size      Installs  year_added  month_added  \\\n",
       "0      2.021538e-06  0.189933  9.999000e-06        2018            1   \n",
       "1      1.235953e-05  0.139929  4.999990e-04        2018            1   \n",
       "2      1.119638e-03  0.086924  4.999999e-03        2018            8   \n",
       "3      2.759054e-03  0.249938  5.000000e-02        2018            6   \n",
       "4      1.235953e-05  0.027919  9.999900e-05        2018            6   \n",
       "...             ...       ...           ...         ...          ...   \n",
       "10834  7.676727e-08  0.025919  4.990000e-07        2017            6   \n",
       "10836  4.733982e-07  0.529961  4.999000e-06        2017            7   \n",
       "10837  3.838364e-08  0.035920  9.900000e-08        2018            7   \n",
       "10839  1.445784e-06  0.229659  9.990000e-07        2015            1   \n",
       "10840  5.096144e-03  0.189933  9.999999e-03        2018            7   \n",
       "\n",
       "       catg_BUSINESS  catg_COMMUNICATION  catg_DATING  catg_FAMILY  \\\n",
       "0                  0                   0            0            0   \n",
       "1                  0                   0            0            0   \n",
       "2                  0                   0            0            0   \n",
       "3                  0                   0            0            0   \n",
       "4                  0                   0            0            0   \n",
       "...              ...                 ...          ...          ...   \n",
       "10834              0                   0            0            1   \n",
       "10836              0                   0            0            1   \n",
       "10837              0                   0            0            1   \n",
       "10839              0                   0            0            0   \n",
       "10840              0                   0            0            0   \n",
       "\n",
       "       catg_FINANCE  ...  catg_PRODUCTIVITY  catg_SHOPPING  catg_SOCIAL  \\\n",
       "0                 0  ...                  0              0            0   \n",
       "1                 0  ...                  0              0            0   \n",
       "2                 0  ...                  0              0            0   \n",
       "3                 0  ...                  0              0            0   \n",
       "4                 0  ...                  0              0            0   \n",
       "...             ...  ...                ...            ...          ...   \n",
       "10834             0  ...                  0              0            0   \n",
       "10836             0  ...                  0              0            0   \n",
       "10837             0  ...                  0              0            0   \n",
       "10839             0  ...                  0              0            0   \n",
       "10840             0  ...                  0              0            0   \n",
       "\n",
       "       catg_SPORTS  catg_TOOLS  catg_TRAVEL_AND_LOCAL  typ_Paid  \\\n",
       "0                0           0                      0         0   \n",
       "1                0           0                      0         0   \n",
       "2                0           0                      0         0   \n",
       "3                0           0                      0         0   \n",
       "4                0           0                      0         0   \n",
       "...            ...         ...                    ...       ...   \n",
       "10834            0           0                      0         0   \n",
       "10836            0           0                      0         0   \n",
       "10837            0           0                      0         0   \n",
       "10839            0           0                      0         0   \n",
       "10840            0           0                      0         0   \n",
       "\n",
       "       cr_Everyone 10+  cr_Mature 17+  cr_Teen  \n",
       "0                    0              0        0  \n",
       "1                    0              0        0  \n",
       "2                    0              0        0  \n",
       "3                    0              0        1  \n",
       "4                    0              0        0  \n",
       "...                ...            ...      ...  \n",
       "10834                0              0        0  \n",
       "10836                0              0        0  \n",
       "10837                0              0        0  \n",
       "10839                0              1        0  \n",
       "10840                0              0        0  \n",
       "\n",
       "[9356 rows x 28 columns]"
      ]
     },
     "execution_count": 31,
     "metadata": {},
     "output_type": "execute_result"
    }
   ],
   "source": [
    "\n",
    "# The code is performing feature scaling on the columns 'Reviews', 'Size', and 'Installs' in the DataFrame X.\n",
    "\n",
    "scaler = MinMaxScaler(feature_range=(0,1))\n",
    "L = ['Reviews', 'Size',\"Installs\"]\n",
    "X = X.apply(pd.to_numeric)\n",
    "for col in L:\n",
    "    scaler.fit(X[[col]])\n",
    "    X.loc[:,col] = scaler.transform(X[[col]])\n",
    "X"
   ]
  },
  {
   "cell_type": "code",
   "execution_count": 32,
   "id": "a01db69e",
   "metadata": {
    "execution": {
     "iopub.execute_input": "2023-05-21T12:02:27.903801Z",
     "iopub.status.busy": "2023-05-21T12:02:27.903424Z",
     "iopub.status.idle": "2023-05-21T12:02:27.914666Z",
     "shell.execute_reply": "2023-05-21T12:02:27.913652Z"
    },
    "papermill": {
     "duration": 0.035636,
     "end_time": "2023-05-21T12:02:27.919355",
     "exception": false,
     "start_time": "2023-05-21T12:02:27.883719",
     "status": "completed"
    },
    "tags": []
   },
   "outputs": [
    {
     "name": "stdout",
     "output_type": "stream",
     "text": [
      "(9356, 28)\n"
     ]
    },
    {
     "data": {
      "text/plain": [
       "array([4, 3, 4, ..., 5, 4, 4])"
      ]
     },
     "execution_count": 32,
     "metadata": {},
     "output_type": "execute_result"
    }
   ],
   "source": [
    "print(X.shape)\n",
    "y"
   ]
  },
  {
   "cell_type": "code",
   "execution_count": 33,
   "id": "088a5986",
   "metadata": {
    "execution": {
     "iopub.execute_input": "2023-05-21T12:02:27.950477Z",
     "iopub.status.busy": "2023-05-21T12:02:27.950100Z",
     "iopub.status.idle": "2023-05-21T12:02:27.958245Z",
     "shell.execute_reply": "2023-05-21T12:02:27.957043Z"
    },
    "papermill": {
     "duration": 0.025985,
     "end_time": "2023-05-21T12:02:27.960978",
     "exception": false,
     "start_time": "2023-05-21T12:02:27.934993",
     "status": "completed"
    },
    "tags": []
   },
   "outputs": [
    {
     "data": {
      "text/plain": [
       "array([3, 2, 3, ..., 4, 3, 3])"
      ]
     },
     "execution_count": 33,
     "metadata": {},
     "output_type": "execute_result"
    }
   ],
   "source": [
    "y = y-1\n",
    "y"
   ]
  },
  {
   "cell_type": "code",
   "execution_count": 34,
   "id": "3171f8bc",
   "metadata": {
    "execution": {
     "iopub.execute_input": "2023-05-21T12:02:27.999079Z",
     "iopub.status.busy": "2023-05-21T12:02:27.998658Z",
     "iopub.status.idle": "2023-05-21T12:02:28.011964Z",
     "shell.execute_reply": "2023-05-21T12:02:28.010483Z"
    },
    "papermill": {
     "duration": 0.033945,
     "end_time": "2023-05-21T12:02:28.014993",
     "exception": false,
     "start_time": "2023-05-21T12:02:27.981048",
     "status": "completed"
    },
    "tags": []
   },
   "outputs": [],
   "source": [
    "\n",
    "X_train, X_test, y_train, y_test = train_test_split(X,y, train_size=0.8)\n",
    "X_train, X_valid, y_train, y_valid = train_test_split(X_train,y_train,train_size=0.8)"
   ]
  },
  {
   "cell_type": "code",
   "execution_count": 35,
   "id": "f307696c",
   "metadata": {
    "execution": {
     "iopub.execute_input": "2023-05-21T12:02:28.042999Z",
     "iopub.status.busy": "2023-05-21T12:02:28.042579Z",
     "iopub.status.idle": "2023-05-21T12:02:28.061255Z",
     "shell.execute_reply": "2023-05-21T12:02:28.059259Z"
    },
    "papermill": {
     "duration": 0.035962,
     "end_time": "2023-05-21T12:02:28.064022",
     "exception": false,
     "start_time": "2023-05-21T12:02:28.028060",
     "status": "completed"
    },
    "tags": []
   },
   "outputs": [],
   "source": [
    "# This code is performing feature scaling using the StandardScaler() function.\n",
    "sc_X=StandardScaler()\n",
    "X_train=sc_X.fit_transform(X_train)\n",
    "X_valid = sc_X.transform(X_valid)\n",
    "X_test=sc_X.transform(X_test)"
   ]
  },
  {
   "cell_type": "code",
   "execution_count": 36,
   "id": "99d8dda6",
   "metadata": {
    "execution": {
     "iopub.execute_input": "2023-05-21T12:02:28.098405Z",
     "iopub.status.busy": "2023-05-21T12:02:28.098045Z",
     "iopub.status.idle": "2023-05-21T12:02:41.300659Z",
     "shell.execute_reply": "2023-05-21T12:02:41.299226Z"
    },
    "papermill": {
     "duration": 13.222144,
     "end_time": "2023-05-21T12:02:41.303619",
     "exception": false,
     "start_time": "2023-05-21T12:02:28.081475",
     "status": "completed"
    },
    "tags": []
   },
   "outputs": [
    {
     "name": "stdout",
     "output_type": "stream",
     "text": [
      "[0]\tvalidation_0-mlogloss:1.53684\n",
      "[1]\tvalidation_0-mlogloss:1.47182\n",
      "[2]\tvalidation_0-mlogloss:1.41337\n",
      "[3]\tvalidation_0-mlogloss:1.36037\n",
      "[4]\tvalidation_0-mlogloss:1.31128\n",
      "[5]\tvalidation_0-mlogloss:1.26677\n",
      "[6]\tvalidation_0-mlogloss:1.22518\n",
      "[7]\tvalidation_0-mlogloss:1.18671\n",
      "[8]\tvalidation_0-mlogloss:1.15165\n",
      "[9]\tvalidation_0-mlogloss:1.11877\n",
      "[10]\tvalidation_0-mlogloss:1.08845\n",
      "[11]\tvalidation_0-mlogloss:1.05985\n",
      "[12]\tvalidation_0-mlogloss:1.03320\n",
      "[13]\tvalidation_0-mlogloss:1.00833\n",
      "[14]\tvalidation_0-mlogloss:0.98503\n",
      "[15]\tvalidation_0-mlogloss:0.96319\n",
      "[16]\tvalidation_0-mlogloss:0.94271\n",
      "[17]\tvalidation_0-mlogloss:0.92324\n",
      "[18]\tvalidation_0-mlogloss:0.90496\n",
      "[19]\tvalidation_0-mlogloss:0.88790\n",
      "[20]\tvalidation_0-mlogloss:0.87163\n",
      "[21]\tvalidation_0-mlogloss:0.85630\n",
      "[22]\tvalidation_0-mlogloss:0.84179\n",
      "[23]\tvalidation_0-mlogloss:0.82829\n",
      "[24]\tvalidation_0-mlogloss:0.81531\n",
      "[25]\tvalidation_0-mlogloss:0.80323\n",
      "[26]\tvalidation_0-mlogloss:0.79194\n",
      "[27]\tvalidation_0-mlogloss:0.78129\n",
      "[28]\tvalidation_0-mlogloss:0.77104\n",
      "[29]\tvalidation_0-mlogloss:0.76133\n",
      "[30]\tvalidation_0-mlogloss:0.75200\n",
      "[31]\tvalidation_0-mlogloss:0.74310\n",
      "[32]\tvalidation_0-mlogloss:0.73479\n",
      "[33]\tvalidation_0-mlogloss:0.72681\n",
      "[34]\tvalidation_0-mlogloss:0.71938\n",
      "[35]\tvalidation_0-mlogloss:0.71220\n",
      "[36]\tvalidation_0-mlogloss:0.70552\n",
      "[37]\tvalidation_0-mlogloss:0.69923\n",
      "[38]\tvalidation_0-mlogloss:0.69299\n",
      "[39]\tvalidation_0-mlogloss:0.68728\n",
      "[40]\tvalidation_0-mlogloss:0.68176\n",
      "[41]\tvalidation_0-mlogloss:0.67664\n",
      "[42]\tvalidation_0-mlogloss:0.67174\n",
      "[43]\tvalidation_0-mlogloss:0.66705\n",
      "[44]\tvalidation_0-mlogloss:0.66245\n",
      "[45]\tvalidation_0-mlogloss:0.65827\n",
      "[46]\tvalidation_0-mlogloss:0.65434\n",
      "[47]\tvalidation_0-mlogloss:0.65060\n",
      "[48]\tvalidation_0-mlogloss:0.64690\n",
      "[49]\tvalidation_0-mlogloss:0.64337\n",
      "[50]\tvalidation_0-mlogloss:0.64002\n",
      "[51]\tvalidation_0-mlogloss:0.63687\n",
      "[52]\tvalidation_0-mlogloss:0.63380\n",
      "[53]\tvalidation_0-mlogloss:0.63080\n",
      "[54]\tvalidation_0-mlogloss:0.62802\n",
      "[55]\tvalidation_0-mlogloss:0.62531\n",
      "[56]\tvalidation_0-mlogloss:0.62277\n",
      "[57]\tvalidation_0-mlogloss:0.62042\n",
      "[58]\tvalidation_0-mlogloss:0.61812\n",
      "[59]\tvalidation_0-mlogloss:0.61586\n",
      "[60]\tvalidation_0-mlogloss:0.61380\n",
      "[61]\tvalidation_0-mlogloss:0.61171\n",
      "[62]\tvalidation_0-mlogloss:0.60982\n",
      "[63]\tvalidation_0-mlogloss:0.60789\n",
      "[64]\tvalidation_0-mlogloss:0.60603\n",
      "[65]\tvalidation_0-mlogloss:0.60438\n",
      "[66]\tvalidation_0-mlogloss:0.60271\n",
      "[67]\tvalidation_0-mlogloss:0.60114\n",
      "[68]\tvalidation_0-mlogloss:0.59971\n",
      "[69]\tvalidation_0-mlogloss:0.59842\n",
      "[70]\tvalidation_0-mlogloss:0.59695\n",
      "[71]\tvalidation_0-mlogloss:0.59556\n",
      "[72]\tvalidation_0-mlogloss:0.59434\n",
      "[73]\tvalidation_0-mlogloss:0.59322\n",
      "[74]\tvalidation_0-mlogloss:0.59210\n",
      "[75]\tvalidation_0-mlogloss:0.59077\n",
      "[76]\tvalidation_0-mlogloss:0.58967\n",
      "[77]\tvalidation_0-mlogloss:0.58870\n",
      "[78]\tvalidation_0-mlogloss:0.58778\n",
      "[79]\tvalidation_0-mlogloss:0.58675\n",
      "[80]\tvalidation_0-mlogloss:0.58584\n",
      "[81]\tvalidation_0-mlogloss:0.58500\n",
      "[82]\tvalidation_0-mlogloss:0.58407\n",
      "[83]\tvalidation_0-mlogloss:0.58329\n",
      "[84]\tvalidation_0-mlogloss:0.58258\n",
      "[85]\tvalidation_0-mlogloss:0.58184\n",
      "[86]\tvalidation_0-mlogloss:0.58103\n",
      "[87]\tvalidation_0-mlogloss:0.58021\n",
      "[88]\tvalidation_0-mlogloss:0.57959\n",
      "[89]\tvalidation_0-mlogloss:0.57907\n",
      "[90]\tvalidation_0-mlogloss:0.57849\n",
      "[91]\tvalidation_0-mlogloss:0.57800\n",
      "[92]\tvalidation_0-mlogloss:0.57743\n",
      "[93]\tvalidation_0-mlogloss:0.57705\n",
      "[94]\tvalidation_0-mlogloss:0.57660\n",
      "[95]\tvalidation_0-mlogloss:0.57609\n",
      "[96]\tvalidation_0-mlogloss:0.57575\n",
      "[97]\tvalidation_0-mlogloss:0.57529\n",
      "[98]\tvalidation_0-mlogloss:0.57469\n",
      "[99]\tvalidation_0-mlogloss:0.57427\n",
      "[100]\tvalidation_0-mlogloss:0.57384\n",
      "[101]\tvalidation_0-mlogloss:0.57358\n",
      "[102]\tvalidation_0-mlogloss:0.57325\n",
      "[103]\tvalidation_0-mlogloss:0.57289\n",
      "[104]\tvalidation_0-mlogloss:0.57253\n",
      "[105]\tvalidation_0-mlogloss:0.57217\n",
      "[106]\tvalidation_0-mlogloss:0.57184\n",
      "[107]\tvalidation_0-mlogloss:0.57157\n",
      "[108]\tvalidation_0-mlogloss:0.57124\n",
      "[109]\tvalidation_0-mlogloss:0.57096\n",
      "[110]\tvalidation_0-mlogloss:0.57072\n",
      "[111]\tvalidation_0-mlogloss:0.57045\n",
      "[112]\tvalidation_0-mlogloss:0.57026\n",
      "[113]\tvalidation_0-mlogloss:0.57005\n",
      "[114]\tvalidation_0-mlogloss:0.56981\n",
      "[115]\tvalidation_0-mlogloss:0.56961\n",
      "[116]\tvalidation_0-mlogloss:0.56951\n",
      "[117]\tvalidation_0-mlogloss:0.56922\n",
      "[118]\tvalidation_0-mlogloss:0.56889\n",
      "[119]\tvalidation_0-mlogloss:0.56874\n",
      "[120]\tvalidation_0-mlogloss:0.56854\n",
      "[121]\tvalidation_0-mlogloss:0.56830\n",
      "[122]\tvalidation_0-mlogloss:0.56803\n",
      "[123]\tvalidation_0-mlogloss:0.56784\n",
      "[124]\tvalidation_0-mlogloss:0.56765\n",
      "[125]\tvalidation_0-mlogloss:0.56737\n",
      "[126]\tvalidation_0-mlogloss:0.56728\n",
      "[127]\tvalidation_0-mlogloss:0.56726\n",
      "[128]\tvalidation_0-mlogloss:0.56724\n",
      "[129]\tvalidation_0-mlogloss:0.56712\n",
      "[130]\tvalidation_0-mlogloss:0.56700\n",
      "[131]\tvalidation_0-mlogloss:0.56689\n",
      "[132]\tvalidation_0-mlogloss:0.56681\n",
      "[133]\tvalidation_0-mlogloss:0.56650\n",
      "[134]\tvalidation_0-mlogloss:0.56653\n",
      "[135]\tvalidation_0-mlogloss:0.56637\n",
      "[136]\tvalidation_0-mlogloss:0.56625\n",
      "[137]\tvalidation_0-mlogloss:0.56616\n",
      "[138]\tvalidation_0-mlogloss:0.56606\n",
      "[139]\tvalidation_0-mlogloss:0.56571\n",
      "[140]\tvalidation_0-mlogloss:0.56563\n",
      "[141]\tvalidation_0-mlogloss:0.56575\n",
      "[142]\tvalidation_0-mlogloss:0.56562\n",
      "[143]\tvalidation_0-mlogloss:0.56556\n",
      "[144]\tvalidation_0-mlogloss:0.56559\n",
      "[145]\tvalidation_0-mlogloss:0.56550\n",
      "[146]\tvalidation_0-mlogloss:0.56544\n",
      "[147]\tvalidation_0-mlogloss:0.56536\n",
      "[148]\tvalidation_0-mlogloss:0.56537\n",
      "[149]\tvalidation_0-mlogloss:0.56548\n",
      "[150]\tvalidation_0-mlogloss:0.56550\n",
      "[151]\tvalidation_0-mlogloss:0.56546\n",
      "[152]\tvalidation_0-mlogloss:0.56540\n",
      "[153]\tvalidation_0-mlogloss:0.56518\n",
      "[154]\tvalidation_0-mlogloss:0.56517\n",
      "[155]\tvalidation_0-mlogloss:0.56536\n",
      "[156]\tvalidation_0-mlogloss:0.56542\n",
      "[157]\tvalidation_0-mlogloss:0.56544\n",
      "[158]\tvalidation_0-mlogloss:0.56555\n",
      "[159]\tvalidation_0-mlogloss:0.56556\n",
      "[160]\tvalidation_0-mlogloss:0.56552\n",
      "[161]\tvalidation_0-mlogloss:0.56560\n",
      "[162]\tvalidation_0-mlogloss:0.56551\n",
      "[163]\tvalidation_0-mlogloss:0.56561\n",
      "[164]\tvalidation_0-mlogloss:0.56569\n",
      "[165]\tvalidation_0-mlogloss:0.56573\n",
      "[166]\tvalidation_0-mlogloss:0.56577\n",
      "[167]\tvalidation_0-mlogloss:0.56575\n",
      "[168]\tvalidation_0-mlogloss:0.56564\n",
      "[169]\tvalidation_0-mlogloss:0.56586\n",
      "[170]\tvalidation_0-mlogloss:0.56585\n",
      "[171]\tvalidation_0-mlogloss:0.56596\n",
      "[172]\tvalidation_0-mlogloss:0.56605\n",
      "[173]\tvalidation_0-mlogloss:0.56613\n",
      "[174]\tvalidation_0-mlogloss:0.56610\n",
      "[175]\tvalidation_0-mlogloss:0.56622\n",
      "[176]\tvalidation_0-mlogloss:0.56631\n",
      "[177]\tvalidation_0-mlogloss:0.56631\n",
      "[178]\tvalidation_0-mlogloss:0.56628\n",
      "[179]\tvalidation_0-mlogloss:0.56646\n",
      "[180]\tvalidation_0-mlogloss:0.56653\n",
      "[181]\tvalidation_0-mlogloss:0.56657\n",
      "[182]\tvalidation_0-mlogloss:0.56672\n",
      "[183]\tvalidation_0-mlogloss:0.56692\n",
      "[184]\tvalidation_0-mlogloss:0.56710\n",
      "[185]\tvalidation_0-mlogloss:0.56715\n",
      "[186]\tvalidation_0-mlogloss:0.56720\n",
      "[187]\tvalidation_0-mlogloss:0.56727\n",
      "[188]\tvalidation_0-mlogloss:0.56723\n",
      "[189]\tvalidation_0-mlogloss:0.56740\n",
      "[190]\tvalidation_0-mlogloss:0.56734\n",
      "[191]\tvalidation_0-mlogloss:0.56746\n",
      "[192]\tvalidation_0-mlogloss:0.56754\n",
      "[193]\tvalidation_0-mlogloss:0.56769\n",
      "[194]\tvalidation_0-mlogloss:0.56784\n",
      "[195]\tvalidation_0-mlogloss:0.56804\n",
      "[196]\tvalidation_0-mlogloss:0.56818\n",
      "[197]\tvalidation_0-mlogloss:0.56825\n",
      "[198]\tvalidation_0-mlogloss:0.56840\n",
      "[199]\tvalidation_0-mlogloss:0.56856\n",
      "[200]\tvalidation_0-mlogloss:0.56853\n",
      "[201]\tvalidation_0-mlogloss:0.56875\n",
      "[202]\tvalidation_0-mlogloss:0.56879\n",
      "[203]\tvalidation_0-mlogloss:0.56896\n",
      "[204]\tvalidation_0-mlogloss:0.56910\n",
      "[205]\tvalidation_0-mlogloss:0.56931\n",
      "[206]\tvalidation_0-mlogloss:0.56953\n",
      "[207]\tvalidation_0-mlogloss:0.56957\n",
      "[208]\tvalidation_0-mlogloss:0.56972\n",
      "[209]\tvalidation_0-mlogloss:0.56968\n",
      "[210]\tvalidation_0-mlogloss:0.56964\n",
      "[211]\tvalidation_0-mlogloss:0.56980\n",
      "[212]\tvalidation_0-mlogloss:0.56984\n",
      "[213]\tvalidation_0-mlogloss:0.57000\n",
      "[214]\tvalidation_0-mlogloss:0.57011\n",
      "[215]\tvalidation_0-mlogloss:0.57008\n",
      "[216]\tvalidation_0-mlogloss:0.57023\n",
      "[217]\tvalidation_0-mlogloss:0.57031\n",
      "[218]\tvalidation_0-mlogloss:0.57033\n",
      "[219]\tvalidation_0-mlogloss:0.57037\n",
      "[220]\tvalidation_0-mlogloss:0.57033\n",
      "[221]\tvalidation_0-mlogloss:0.57041\n",
      "[222]\tvalidation_0-mlogloss:0.57036\n",
      "[223]\tvalidation_0-mlogloss:0.57040\n",
      "[224]\tvalidation_0-mlogloss:0.57054\n",
      "[225]\tvalidation_0-mlogloss:0.57065\n",
      "[226]\tvalidation_0-mlogloss:0.57073\n",
      "[227]\tvalidation_0-mlogloss:0.57082\n",
      "[228]\tvalidation_0-mlogloss:0.57071\n",
      "[229]\tvalidation_0-mlogloss:0.57072\n",
      "[230]\tvalidation_0-mlogloss:0.57068\n",
      "[231]\tvalidation_0-mlogloss:0.57082\n",
      "[232]\tvalidation_0-mlogloss:0.57094\n",
      "[233]\tvalidation_0-mlogloss:0.57105\n",
      "[234]\tvalidation_0-mlogloss:0.57120\n",
      "[235]\tvalidation_0-mlogloss:0.57120\n",
      "[236]\tvalidation_0-mlogloss:0.57129\n",
      "[237]\tvalidation_0-mlogloss:0.57126\n",
      "[238]\tvalidation_0-mlogloss:0.57132\n",
      "[239]\tvalidation_0-mlogloss:0.57121\n",
      "[240]\tvalidation_0-mlogloss:0.57132\n",
      "[241]\tvalidation_0-mlogloss:0.57141\n",
      "[242]\tvalidation_0-mlogloss:0.57151\n",
      "[243]\tvalidation_0-mlogloss:0.57143\n",
      "[244]\tvalidation_0-mlogloss:0.57134\n",
      "[245]\tvalidation_0-mlogloss:0.57135\n",
      "[246]\tvalidation_0-mlogloss:0.57146\n",
      "[247]\tvalidation_0-mlogloss:0.57143\n",
      "[248]\tvalidation_0-mlogloss:0.57150\n",
      "[249]\tvalidation_0-mlogloss:0.57163\n",
      "[250]\tvalidation_0-mlogloss:0.57168\n",
      "[251]\tvalidation_0-mlogloss:0.57164\n",
      "[252]\tvalidation_0-mlogloss:0.57167\n",
      "[253]\tvalidation_0-mlogloss:0.57177\n"
     ]
    },
    {
     "data": {
      "text/html": [
       "<style>#sk-container-id-1 {color: black;background-color: white;}#sk-container-id-1 pre{padding: 0;}#sk-container-id-1 div.sk-toggleable {background-color: white;}#sk-container-id-1 label.sk-toggleable__label {cursor: pointer;display: block;width: 100%;margin-bottom: 0;padding: 0.3em;box-sizing: border-box;text-align: center;}#sk-container-id-1 label.sk-toggleable__label-arrow:before {content: \"▸\";float: left;margin-right: 0.25em;color: #696969;}#sk-container-id-1 label.sk-toggleable__label-arrow:hover:before {color: black;}#sk-container-id-1 div.sk-estimator:hover label.sk-toggleable__label-arrow:before {color: black;}#sk-container-id-1 div.sk-toggleable__content {max-height: 0;max-width: 0;overflow: hidden;text-align: left;background-color: #f0f8ff;}#sk-container-id-1 div.sk-toggleable__content pre {margin: 0.2em;color: black;border-radius: 0.25em;background-color: #f0f8ff;}#sk-container-id-1 input.sk-toggleable__control:checked~div.sk-toggleable__content {max-height: 200px;max-width: 100%;overflow: auto;}#sk-container-id-1 input.sk-toggleable__control:checked~label.sk-toggleable__label-arrow:before {content: \"▾\";}#sk-container-id-1 div.sk-estimator input.sk-toggleable__control:checked~label.sk-toggleable__label {background-color: #d4ebff;}#sk-container-id-1 div.sk-label input.sk-toggleable__control:checked~label.sk-toggleable__label {background-color: #d4ebff;}#sk-container-id-1 input.sk-hidden--visually {border: 0;clip: rect(1px 1px 1px 1px);clip: rect(1px, 1px, 1px, 1px);height: 1px;margin: -1px;overflow: hidden;padding: 0;position: absolute;width: 1px;}#sk-container-id-1 div.sk-estimator {font-family: monospace;background-color: #f0f8ff;border: 1px dotted black;border-radius: 0.25em;box-sizing: border-box;margin-bottom: 0.5em;}#sk-container-id-1 div.sk-estimator:hover {background-color: #d4ebff;}#sk-container-id-1 div.sk-parallel-item::after {content: \"\";width: 100%;border-bottom: 1px solid gray;flex-grow: 1;}#sk-container-id-1 div.sk-label:hover label.sk-toggleable__label {background-color: #d4ebff;}#sk-container-id-1 div.sk-serial::before {content: \"\";position: absolute;border-left: 1px solid gray;box-sizing: border-box;top: 0;bottom: 0;left: 50%;z-index: 0;}#sk-container-id-1 div.sk-serial {display: flex;flex-direction: column;align-items: center;background-color: white;padding-right: 0.2em;padding-left: 0.2em;position: relative;}#sk-container-id-1 div.sk-item {position: relative;z-index: 1;}#sk-container-id-1 div.sk-parallel {display: flex;align-items: stretch;justify-content: center;background-color: white;position: relative;}#sk-container-id-1 div.sk-item::before, #sk-container-id-1 div.sk-parallel-item::before {content: \"\";position: absolute;border-left: 1px solid gray;box-sizing: border-box;top: 0;bottom: 0;left: 50%;z-index: -1;}#sk-container-id-1 div.sk-parallel-item {display: flex;flex-direction: column;z-index: 1;position: relative;background-color: white;}#sk-container-id-1 div.sk-parallel-item:first-child::after {align-self: flex-end;width: 50%;}#sk-container-id-1 div.sk-parallel-item:last-child::after {align-self: flex-start;width: 50%;}#sk-container-id-1 div.sk-parallel-item:only-child::after {width: 0;}#sk-container-id-1 div.sk-dashed-wrapped {border: 1px dashed gray;margin: 0 0.4em 0.5em 0.4em;box-sizing: border-box;padding-bottom: 0.4em;background-color: white;}#sk-container-id-1 div.sk-label label {font-family: monospace;font-weight: bold;display: inline-block;line-height: 1.2em;}#sk-container-id-1 div.sk-label-container {text-align: center;}#sk-container-id-1 div.sk-container {/* jupyter's `normalize.less` sets `[hidden] { display: none; }` but bootstrap.min.css set `[hidden] { display: none !important; }` so we also need the `!important` here to be able to override the default hidden behavior on the sphinx rendered scikit-learn.org. See: https://github.com/scikit-learn/scikit-learn/issues/21755 */display: inline-block !important;position: relative;}#sk-container-id-1 div.sk-text-repr-fallback {display: none;}</style><div id=\"sk-container-id-1\" class=\"sk-top-container\"><div class=\"sk-text-repr-fallback\"><pre>XGBClassifier(base_score=None, booster=None, callbacks=None,\n",
       "              colsample_bylevel=None, colsample_bynode=None,\n",
       "              colsample_bytree=None, early_stopping_rounds=100,\n",
       "              enable_categorical=False, eval_metric=None, feature_types=None,\n",
       "              gamma=None, gpu_id=None, grow_policy=None, importance_type=None,\n",
       "              interaction_constraints=None, learning_rate=0.05, max_bin=None,\n",
       "              max_cat_threshold=None, max_cat_to_onehot=None,\n",
       "              max_delta_step=None, max_depth=None, max_leaves=None,\n",
       "              min_child_weight=None, missing=nan, monotone_constraints=None,\n",
       "              n_estimators=500, n_jobs=10, num_parallel_tree=None,\n",
       "              objective=&#x27;multi:softprob&#x27;, predictor=None, ...)</pre><b>In a Jupyter environment, please rerun this cell to show the HTML representation or trust the notebook. <br />On GitHub, the HTML representation is unable to render, please try loading this page with nbviewer.org.</b></div><div class=\"sk-container\" hidden><div class=\"sk-item\"><div class=\"sk-estimator sk-toggleable\"><input class=\"sk-toggleable__control sk-hidden--visually\" id=\"sk-estimator-id-1\" type=\"checkbox\" checked><label for=\"sk-estimator-id-1\" class=\"sk-toggleable__label sk-toggleable__label-arrow\">XGBClassifier</label><div class=\"sk-toggleable__content\"><pre>XGBClassifier(base_score=None, booster=None, callbacks=None,\n",
       "              colsample_bylevel=None, colsample_bynode=None,\n",
       "              colsample_bytree=None, early_stopping_rounds=100,\n",
       "              enable_categorical=False, eval_metric=None, feature_types=None,\n",
       "              gamma=None, gpu_id=None, grow_policy=None, importance_type=None,\n",
       "              interaction_constraints=None, learning_rate=0.05, max_bin=None,\n",
       "              max_cat_threshold=None, max_cat_to_onehot=None,\n",
       "              max_delta_step=None, max_depth=None, max_leaves=None,\n",
       "              min_child_weight=None, missing=nan, monotone_constraints=None,\n",
       "              n_estimators=500, n_jobs=10, num_parallel_tree=None,\n",
       "              objective=&#x27;multi:softprob&#x27;, predictor=None, ...)</pre></div></div></div></div></div>"
      ],
      "text/plain": [
       "XGBClassifier(base_score=None, booster=None, callbacks=None,\n",
       "              colsample_bylevel=None, colsample_bynode=None,\n",
       "              colsample_bytree=None, early_stopping_rounds=100,\n",
       "              enable_categorical=False, eval_metric=None, feature_types=None,\n",
       "              gamma=None, gpu_id=None, grow_policy=None, importance_type=None,\n",
       "              interaction_constraints=None, learning_rate=0.05, max_bin=None,\n",
       "              max_cat_threshold=None, max_cat_to_onehot=None,\n",
       "              max_delta_step=None, max_depth=None, max_leaves=None,\n",
       "              min_child_weight=None, missing=nan, monotone_constraints=None,\n",
       "              n_estimators=500, n_jobs=10, num_parallel_tree=None,\n",
       "              objective='multi:softprob', predictor=None, ...)"
      ]
     },
     "execution_count": 36,
     "metadata": {},
     "output_type": "execute_result"
    }
   ],
   "source": [
    "\n",
    "model  = XGBClassifier(\n",
    "    n_estimators = 500,\n",
    "    learning_rate = 0.05,\n",
    "     early_stopping_rounds = 100,\n",
    "    n_jobs = 10,\n",
    ")\n",
    "model.fit(\n",
    "    X_train, y_train,\n",
    "     eval_set = [(X_valid,y_valid)],\n",
    ")"
   ]
  },
  {
   "cell_type": "code",
   "execution_count": 37,
   "id": "4f98da67",
   "metadata": {
    "execution": {
     "iopub.execute_input": "2023-05-21T12:02:41.367312Z",
     "iopub.status.busy": "2023-05-21T12:02:41.366946Z",
     "iopub.status.idle": "2023-05-21T12:02:41.386600Z",
     "shell.execute_reply": "2023-05-21T12:02:41.385609Z"
    },
    "papermill": {
     "duration": 0.053524,
     "end_time": "2023-05-21T12:02:41.388512",
     "exception": false,
     "start_time": "2023-05-21T12:02:41.334988",
     "status": "completed"
    },
    "tags": []
   },
   "outputs": [
    {
     "data": {
      "text/plain": [
       "0.7585470085470085"
      ]
     },
     "execution_count": 37,
     "metadata": {},
     "output_type": "execute_result"
    }
   ],
   "source": [
    "y_pred_XG = model.score(X_test,y_test)\n",
    "y_pred_XG"
   ]
  },
  {
   "cell_type": "code",
   "execution_count": 38,
   "id": "647cc2f8",
   "metadata": {
    "execution": {
     "iopub.execute_input": "2023-05-21T12:02:41.452819Z",
     "iopub.status.busy": "2023-05-21T12:02:41.452061Z",
     "iopub.status.idle": "2023-05-21T12:02:41.463546Z",
     "shell.execute_reply": "2023-05-21T12:02:41.462521Z"
    },
    "papermill": {
     "duration": 0.046692,
     "end_time": "2023-05-21T12:02:41.465789",
     "exception": false,
     "start_time": "2023-05-21T12:02:41.419097",
     "status": "completed"
    },
    "tags": []
   },
   "outputs": [],
   "source": [
    "X_copy = X.copy()\n",
    "y_copy = y.copy()\n",
    "sc_X=StandardScaler()\n",
    "X_copy=sc_X.fit_transform(X_copy)"
   ]
  },
  {
   "cell_type": "code",
   "execution_count": 39,
   "id": "0c2f53b2",
   "metadata": {
    "execution": {
     "iopub.execute_input": "2023-05-21T12:02:41.532453Z",
     "iopub.status.busy": "2023-05-21T12:02:41.532078Z",
     "iopub.status.idle": "2023-05-21T12:02:46.505093Z",
     "shell.execute_reply": "2023-05-21T12:02:46.502459Z"
    },
    "papermill": {
     "duration": 5.010752,
     "end_time": "2023-05-21T12:02:46.508829",
     "exception": false,
     "start_time": "2023-05-21T12:02:41.498077",
     "status": "completed"
    },
    "tags": []
   },
   "outputs": [
    {
     "name": "stderr",
     "output_type": "stream",
     "text": [
      "/opt/conda/lib/python3.10/site-packages/scipy/__init__.py:146: UserWarning: A NumPy version >=1.16.5 and <1.23.0 is required for this version of SciPy (detected version 1.23.5\n",
      "  warnings.warn(f\"A NumPy version >={np_minversion} and <{np_maxversion}\"\n",
      "/opt/conda/lib/python3.10/site-packages/scipy/__init__.py:146: UserWarning: A NumPy version >=1.16.5 and <1.23.0 is required for this version of SciPy (detected version 1.23.5\n",
      "  warnings.warn(f\"A NumPy version >={np_minversion} and <{np_maxversion}\"\n",
      "/opt/conda/lib/python3.10/site-packages/scipy/__init__.py:146: UserWarning: A NumPy version >=1.16.5 and <1.23.0 is required for this version of SciPy (detected version 1.23.5\n",
      "  warnings.warn(f\"A NumPy version >={np_minversion} and <{np_maxversion}\"\n",
      "/opt/conda/lib/python3.10/site-packages/scipy/__init__.py:146: UserWarning: A NumPy version >=1.16.5 and <1.23.0 is required for this version of SciPy (detected version 1.23.5\n",
      "  warnings.warn(f\"A NumPy version >={np_minversion} and <{np_maxversion}\"\n",
      "/opt/conda/lib/python3.10/site-packages/scipy/__init__.py:146: UserWarning: A NumPy version >=1.16.5 and <1.23.0 is required for this version of SciPy (detected version 1.23.5\n",
      "  warnings.warn(f\"A NumPy version >={np_minversion} and <{np_maxversion}\"\n"
     ]
    },
    {
     "data": {
      "text/plain": [
       "0.7333233405053287"
      ]
     },
     "execution_count": 39,
     "metadata": {},
     "output_type": "execute_result"
    }
   ],
   "source": [
    "model2 = RandomForestClassifier(bootstrap = True, oob_score = True, n_jobs = 5)\n",
    "scores2 = cross_val_score(model2,X_copy,y_copy)\n",
    "y_pred_RF = scores2.mean()\n",
    "y_pred_RF"
   ]
  },
  {
   "cell_type": "code",
   "execution_count": 40,
   "id": "d47a4b6d",
   "metadata": {
    "execution": {
     "iopub.execute_input": "2023-05-21T12:02:46.579177Z",
     "iopub.status.busy": "2023-05-21T12:02:46.578663Z",
     "iopub.status.idle": "2023-05-21T12:02:49.626788Z",
     "shell.execute_reply": "2023-05-21T12:02:49.625084Z"
    },
    "papermill": {
     "duration": 3.086965,
     "end_time": "2023-05-21T12:02:49.629578",
     "exception": false,
     "start_time": "2023-05-21T12:02:46.542613",
     "status": "completed"
    },
    "tags": []
   },
   "outputs": [
    {
     "data": {
      "text/plain": [
       "0.7520302000392862"
      ]
     },
     "execution_count": 40,
     "metadata": {},
     "output_type": "execute_result"
    }
   ],
   "source": [
    "model3 = LogisticRegression(random_state=2 , max_iter=2000)\n",
    "scores3 = cross_val_score(model3,X_copy,y_copy)\n",
    "y_pred_LR = scores3.mean()\n",
    "y_pred_LR"
   ]
  },
  {
   "cell_type": "code",
   "execution_count": 41,
   "id": "63c1fc98",
   "metadata": {
    "execution": {
     "iopub.execute_input": "2023-05-21T12:02:49.715738Z",
     "iopub.status.busy": "2023-05-21T12:02:49.714732Z",
     "iopub.status.idle": "2023-05-21T12:03:06.464982Z",
     "shell.execute_reply": "2023-05-21T12:03:06.463974Z"
    },
    "papermill": {
     "duration": 16.795088,
     "end_time": "2023-05-21T12:03:06.467325",
     "exception": false,
     "start_time": "2023-05-21T12:02:49.672237",
     "status": "completed"
    },
    "tags": []
   },
   "outputs": [
    {
     "data": {
      "text/plain": [
       "0.7413406720662199"
      ]
     },
     "execution_count": 41,
     "metadata": {},
     "output_type": "execute_result"
    }
   ],
   "source": [
    "model4 = SVC()\n",
    "scores4 = cross_val_score(model4,X_copy,y_copy)\n",
    "y_pred_SV = scores4.mean()\n",
    "y_pred_SV"
   ]
  },
  {
   "cell_type": "code",
   "execution_count": 42,
   "id": "2ceeaaa7",
   "metadata": {
    "execution": {
     "iopub.execute_input": "2023-05-21T12:03:06.571817Z",
     "iopub.status.busy": "2023-05-21T12:03:06.571497Z",
     "iopub.status.idle": "2023-05-21T12:03:06.659526Z",
     "shell.execute_reply": "2023-05-21T12:03:06.656006Z"
    },
    "papermill": {
     "duration": 0.139554,
     "end_time": "2023-05-21T12:03:06.663608",
     "exception": false,
     "start_time": "2023-05-21T12:03:06.524054",
     "status": "completed"
    },
    "tags": []
   },
   "outputs": [
    {
     "data": {
      "text/plain": [
       "0.23258335731612054"
      ]
     },
     "execution_count": 42,
     "metadata": {},
     "output_type": "execute_result"
    }
   ],
   "source": [
    "model5 = GaussianNB()\n",
    "scores5 = cross_val_score(model5,X_copy,y_copy)\n",
    "y_pred_NB = scores5.mean()\n",
    "y_pred_NB"
   ]
  },
  {
   "cell_type": "code",
   "execution_count": 43,
   "id": "a9667ab3",
   "metadata": {
    "execution": {
     "iopub.execute_input": "2023-05-21T12:03:06.735782Z",
     "iopub.status.busy": "2023-05-21T12:03:06.733766Z",
     "iopub.status.idle": "2023-05-21T12:03:07.094602Z",
     "shell.execute_reply": "2023-05-21T12:03:07.091901Z"
    },
    "papermill": {
     "duration": 0.398821,
     "end_time": "2023-05-21T12:03:07.097251",
     "exception": false,
     "start_time": "2023-05-21T12:03:06.698430",
     "status": "completed"
    },
    "tags": []
   },
   "outputs": [
    {
     "data": {
      "text/plain": [
       "<AxesSubplot: title={'center': 'Model accuracy'}>"
      ]
     },
     "execution_count": 43,
     "metadata": {},
     "output_type": "execute_result"
    },
    {
     "data": {
      "image/png": "[encoded data removed]",
      "text/plain": [
       "<Figure size 640x480 with 1 Axes>"
      ]
     },
     "metadata": {},
     "output_type": "display_data"
    }
   ],
   "source": [
    "# The code is creating a pandas Series object called `model_acc` which contains the accuracy scores of different machine learning models.\n",
    "# The accuracy scores are stored in a list `[y_pred_XG, y_pred_RF, y_pred_LR, y_pred_SV, y_pred_NB]` and \n",
    "# the corresponding model names are stored in another list `['XGBoost Classifier', 'RandomForest', 'Logistic Regression', 'SVM Classifier', 'Naive Bayes Classifier']`.\n",
    "model_acc = pd.Series(\n",
    "    data=[y_pred_XG,y_pred_RF,y_pred_LR,y_pred_SV,y_pred_NB], \n",
    "    index=['XGBoost Classifier','RandomForest','Logistic Regression','SVM Classifier','Naive Bayes Classifier']\n",
    ")\n",
    "plt.title('Model accuracy')\n",
    "model_acc.sort_values().plot.barh(color=['pink', 'red', 'green', 'blue', 'yellow'])"
   ]
  },
  {
   "cell_type": "code",
   "execution_count": null,
   "id": "efd531f8",
   "metadata": {
    "execution": {
     "iopub.execute_input": "2023-05-21T11:55:18.615342Z",
     "iopub.status.busy": "2023-05-21T11:55:18.614921Z",
     "iopub.status.idle": "2023-05-21T11:55:26.659479Z",
     "shell.execute_reply": "2023-05-21T11:55:26.658222Z",
     "shell.execute_reply.started": "2023-05-21T11:55:18.615307Z"
    },
    "papermill": {
     "duration": 0.033007,
     "end_time": "2023-05-21T12:03:07.163423",
     "exception": false,
     "start_time": "2023-05-21T12:03:07.130416",
     "status": "completed"
    },
    "tags": []
   },
   "outputs": [],
   "source": []
  }
 ],
 "metadata": {
  "kernelspec": {
   "display_name": "Python 3",
   "language": "python",
   "name": "python3"
  },
  "language_info": {
   "codemirror_mode": {
    "name": "ipython",
    "version": 3
   },
   "file_extension": ".py",
   "mimetype": "text/x-python",
   "name": "python",
   "nbconvert_exporter": "python",
   "pygments_lexer": "ipython3",
   "version": "3.10.10"
  },
  "papermill": {
   "default_parameters": {},
   "duration": 60.364792,
   "end_time": "2023-05-21T12:03:09.822663",
   "environment_variables": {},
   "exception": null,
   "input_path": "__notebook__.ipynb",
   "output_path": "__notebook__.ipynb",
   "parameters": {},
   "start_time": "2023-05-21T12:02:09.457871",
   "version": "2.4.0"
  }
 },
 "nbformat": 4,
 "nbformat_minor": 5
}
